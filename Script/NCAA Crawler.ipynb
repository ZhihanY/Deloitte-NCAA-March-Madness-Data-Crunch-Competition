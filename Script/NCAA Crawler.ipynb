{
 "cells": [
  {
   "cell_type": "code",
   "execution_count": 1,
   "metadata": {
    "ExecuteTime": {
     "end_time": "2020-03-19T19:12:46.226443Z",
     "start_time": "2020-03-19T19:12:44.366660Z"
    }
   },
   "outputs": [],
   "source": [
    "import requests \n",
    "from bs4 import BeautifulSoup\n",
    "from selenium import webdriver\n",
    "import pandas as pd\n",
    "import numpy as np\n",
    "#from lxml import etree"
   ]
  },
  {
   "cell_type": "code",
   "execution_count": 2,
   "metadata": {
    "ExecuteTime": {
     "end_time": "2020-03-19T19:12:47.061781Z",
     "start_time": "2020-03-19T19:12:47.056800Z"
    }
   },
   "outputs": [],
   "source": [
    "url = 'https://kenpom.com/index.php?y='\n"
   ]
  },
  {
   "cell_type": "code",
   "execution_count": 3,
   "metadata": {
    "ExecuteTime": {
     "end_time": "2020-03-19T19:12:47.334911Z",
     "start_time": "2020-03-19T19:12:47.329925Z"
    }
   },
   "outputs": [],
   "source": [
    "Year = []\n",
    "Team = []\n",
    "AdjO = []\n",
    "AdjD = []\n",
    "AdjT = []\n",
    "Luck = []\n",
    "AdjEM = []\n",
    "OppO = []\n",
    "OppD = []\n",
    "NOSOS_AdjEM = []"
   ]
  },
  {
   "cell_type": "code",
   "execution_count": 4,
   "metadata": {
    "ExecuteTime": {
     "end_time": "2020-03-19T19:13:08.960553Z",
     "start_time": "2020-03-19T19:13:08.950580Z"
    }
   },
   "outputs": [],
   "source": [
    "#Need AdjT, AdjO, AdjD, AdjEm_SOS\n",
    "\n",
    "#stat1 = soup.find_all('td',{'class':'td-left divide'})\n",
    "def parse_one(soup, year):\n",
    "    stat = soup.find_all('td', {'class':{'td-left'}})\n",
    "    #html = requests.get('https://kenpom.com/index.php?y=2018').text\n",
    "    #soup = BeautifulSoup(html, 'html.parser')\n",
    "    for i,j in enumerate(soup.find_all('td', {'class': 'next_left'})):\n",
    "        Team.append(j.find('a').get_text())\n",
    "    \n",
    "    for i,j in enumerate(stat):\n",
    "        if i%8 == 0:\n",
    "            \n",
    "            Year.append(year)\n",
    "        if i % 8 == 0:\n",
    "            AdjO.append(j.get_text())\n",
    "        if i % 8 == 1:\n",
    "            AdjD.append(j.get_text())\n",
    "        if i % 8 == 2:\n",
    "            AdjT.append(j.get_text())\n",
    "        if i % 8 == 3:\n",
    "            Luck.append(j.get_text())\n",
    "        if i % 8 == 4:\n",
    "            AdjEM.append(j.get_text())\n",
    "        if i % 8 == 5:\n",
    "            OppO.append(j.get_text())\n",
    "        if i % 8 == 6:\n",
    "            OppD.append(j.get_text())\n",
    "        if i % 8 == 7:\n",
    "            NOSOS_AdjEM.append(j.get_text())\n"
   ]
  },
  {
   "cell_type": "code",
   "execution_count": 5,
   "metadata": {
    "ExecuteTime": {
     "end_time": "2020-03-19T19:13:18.645703Z",
     "start_time": "2020-03-19T19:13:18.641713Z"
    }
   },
   "outputs": [],
   "source": [
    "def parse_all(url, i):\n",
    "    html = requests.get(url+ str(i)).text\n",
    "    soup = BeautifulSoup(html, 'html.parser')\n",
    "    parse_one(soup, i)"
   ]
  },
  {
   "cell_type": "code",
   "execution_count": 75,
   "metadata": {
    "ExecuteTime": {
     "end_time": "2020-02-04T17:40:21.522318Z",
     "start_time": "2020-02-04T17:40:03.523379Z"
    }
   },
   "outputs": [
    {
     "name": "stdout",
     "output_type": "stream",
     "text": [
      "2003\n",
      "2004\n",
      "2005\n",
      "2006\n",
      "2007\n",
      "2008\n",
      "2009\n",
      "2010\n",
      "2011\n",
      "2012\n",
      "2013\n",
      "2014\n",
      "2015\n",
      "2016\n",
      "2017\n",
      "2018\n"
     ]
    }
   ],
   "source": [
    "for i in range(2003,2019):\n",
    "    parse_all(url, i)\n",
    "    print(i)"
   ]
  },
  {
   "cell_type": "code",
   "execution_count": 7,
   "metadata": {
    "ExecuteTime": {
     "end_time": "2020-03-19T19:13:44.534750Z",
     "start_time": "2020-03-19T19:13:42.428323Z"
    }
   },
   "outputs": [],
   "source": [
    "parse_all(url, 2020)"
   ]
  },
  {
   "cell_type": "code",
   "execution_count": 8,
   "metadata": {
    "ExecuteTime": {
     "end_time": "2020-03-19T19:13:53.571916Z",
     "start_time": "2020-03-19T19:13:53.565930Z"
    }
   },
   "outputs": [],
   "source": [
    "info = []\n",
    "info.extend(zip(Year,Team,AdjO,AdjD,AdjT,Luck,AdjEM,OppO,OppD,NOSOS_AdjEM))"
   ]
  },
  {
   "cell_type": "code",
   "execution_count": 9,
   "metadata": {
    "ExecuteTime": {
     "end_time": "2020-03-19T19:14:21.252166Z",
     "start_time": "2020-03-19T19:14:21.244169Z"
    }
   },
   "outputs": [],
   "source": [
    "#kenpom 2020\n",
    "df_2020 = pd.DataFrame(info,columns=['Year','Team','AdjO','AdjD', 'AdjT', 'Luck','AdjEM', 'OppO', \n",
    "                                'OppD', 'NOSOS_AdjEM'])"
   ]
  },
  {
   "cell_type": "code",
   "execution_count": 77,
   "metadata": {
    "ExecuteTime": {
     "end_time": "2020-02-04T17:40:41.079608Z",
     "start_time": "2020-02-04T17:40:41.067619Z"
    }
   },
   "outputs": [],
   "source": [
    "df = pd.DataFrame(info,columns=['Year','Team','AdjO','AdjD', 'AdjT', 'Luck','AdjEM', 'OppO', \n",
    "                                'OppD', 'NOSOS_AdjEM'])"
   ]
  },
  {
   "cell_type": "code",
   "execution_count": 80,
   "metadata": {
    "ExecuteTime": {
     "end_time": "2020-02-04T17:40:42.716246Z",
     "start_time": "2020-02-04T17:40:42.703282Z"
    }
   },
   "outputs": [
    {
     "data": {
      "text/html": [
       "<div>\n",
       "<style scoped>\n",
       "    .dataframe tbody tr th:only-of-type {\n",
       "        vertical-align: middle;\n",
       "    }\n",
       "\n",
       "    .dataframe tbody tr th {\n",
       "        vertical-align: top;\n",
       "    }\n",
       "\n",
       "    .dataframe thead th {\n",
       "        text-align: right;\n",
       "    }\n",
       "</style>\n",
       "<table border=\"1\" class=\"dataframe\">\n",
       "  <thead>\n",
       "    <tr style=\"text-align: right;\">\n",
       "      <th></th>\n",
       "      <th>Year</th>\n",
       "      <th>Team</th>\n",
       "      <th>AdjO</th>\n",
       "      <th>AdjD</th>\n",
       "      <th>AdjT</th>\n",
       "      <th>Luck</th>\n",
       "      <th>AdjEM</th>\n",
       "      <th>OppO</th>\n",
       "      <th>OppD</th>\n",
       "      <th>NOSOS_AdjEM</th>\n",
       "    </tr>\n",
       "  </thead>\n",
       "  <tbody>\n",
       "    <tr>\n",
       "      <td>5126</td>\n",
       "      <td>2018</td>\n",
       "      <td>Villanova</td>\n",
       "      <td>127.8</td>\n",
       "      <td>94.0</td>\n",
       "      <td>68.7</td>\n",
       "      <td>-.018</td>\n",
       "      <td>+11.31</td>\n",
       "      <td>111.3</td>\n",
       "      <td>100.0</td>\n",
       "      <td>+3.98</td>\n",
       "    </tr>\n",
       "    <tr>\n",
       "      <td>5127</td>\n",
       "      <td>2018</td>\n",
       "      <td>Virginia</td>\n",
       "      <td>115.2</td>\n",
       "      <td>85.6</td>\n",
       "      <td>59.4</td>\n",
       "      <td>+.048</td>\n",
       "      <td>+9.24</td>\n",
       "      <td>110.0</td>\n",
       "      <td>100.7</td>\n",
       "      <td>-0.08</td>\n",
       "    </tr>\n",
       "    <tr>\n",
       "      <td>5128</td>\n",
       "      <td>2018</td>\n",
       "      <td>Duke</td>\n",
       "      <td>122.4</td>\n",
       "      <td>93.6</td>\n",
       "      <td>69.7</td>\n",
       "      <td>-.034</td>\n",
       "      <td>+10.60</td>\n",
       "      <td>110.4</td>\n",
       "      <td>99.8</td>\n",
       "      <td>+4.09</td>\n",
       "    </tr>\n",
       "    <tr>\n",
       "      <td>5129</td>\n",
       "      <td>2018</td>\n",
       "      <td>Cincinnati</td>\n",
       "      <td>113.4</td>\n",
       "      <td>86.8</td>\n",
       "      <td>64.5</td>\n",
       "      <td>-.019</td>\n",
       "      <td>+3.46</td>\n",
       "      <td>106.9</td>\n",
       "      <td>103.4</td>\n",
       "      <td>-4.21</td>\n",
       "    </tr>\n",
       "    <tr>\n",
       "      <td>5130</td>\n",
       "      <td>2018</td>\n",
       "      <td>Purdue</td>\n",
       "      <td>122.7</td>\n",
       "      <td>96.4</td>\n",
       "      <td>67.2</td>\n",
       "      <td>+.006</td>\n",
       "      <td>+9.02</td>\n",
       "      <td>109.1</td>\n",
       "      <td>100.1</td>\n",
       "      <td>+0.69</td>\n",
       "    </tr>\n",
       "  </tbody>\n",
       "</table>\n",
       "</div>"
      ],
      "text/plain": [
       "      Year        Team   AdjO  AdjD  AdjT   Luck   AdjEM   OppO   OppD  \\\n",
       "5126  2018   Villanova  127.8  94.0  68.7  -.018  +11.31  111.3  100.0   \n",
       "5127  2018    Virginia  115.2  85.6  59.4  +.048   +9.24  110.0  100.7   \n",
       "5128  2018        Duke  122.4  93.6  69.7  -.034  +10.60  110.4   99.8   \n",
       "5129  2018  Cincinnati  113.4  86.8  64.5  -.019   +3.46  106.9  103.4   \n",
       "5130  2018      Purdue  122.7  96.4  67.2  +.006   +9.02  109.1  100.1   \n",
       "\n",
       "     NOSOS_AdjEM  \n",
       "5126       +3.98  \n",
       "5127       -0.08  \n",
       "5128       +4.09  \n",
       "5129       -4.21  \n",
       "5130       +0.69  "
      ]
     },
     "execution_count": 80,
     "metadata": {},
     "output_type": "execute_result"
    }
   ],
   "source": [
    "df[df['Year'] == 2018].head()"
   ]
  },
  {
   "cell_type": "code",
   "execution_count": 82,
   "metadata": {
    "ExecuteTime": {
     "end_time": "2020-02-04T17:47:41.589449Z",
     "start_time": "2020-02-04T17:47:41.585469Z"
    }
   },
   "outputs": [],
   "source": [
    "df.to_csv('NCAA_historical_Adv_Stat.csv', index=False)"
   ]
  },
  {
   "cell_type": "code",
   "execution_count": 12,
   "metadata": {
    "ExecuteTime": {
     "end_time": "2020-03-19T19:15:20.975721Z",
     "start_time": "2020-03-19T19:15:20.965738Z"
    }
   },
   "outputs": [],
   "source": [
    "df_2020.to_csv('kkk.csv',index=False)"
   ]
  },
  {
   "cell_type": "code",
   "execution_count": 81,
   "metadata": {
    "ExecuteTime": {
     "end_time": "2020-02-04T17:57:02.880929Z",
     "start_time": "2020-02-04T17:57:02.876940Z"
    }
   },
   "outputs": [],
   "source": []
  },
  {
   "cell_type": "code",
   "execution_count": null,
   "metadata": {},
   "outputs": [],
   "source": []
  },
  {
   "cell_type": "code",
   "execution_count": null,
   "metadata": {},
   "outputs": [],
   "source": []
  },
  {
   "cell_type": "code",
   "execution_count": null,
   "metadata": {},
   "outputs": [],
   "source": []
  },
  {
   "cell_type": "code",
   "execution_count": null,
   "metadata": {},
   "outputs": [],
   "source": []
  },
  {
   "cell_type": "code",
   "execution_count": null,
   "metadata": {},
   "outputs": [],
   "source": []
  },
  {
   "cell_type": "code",
   "execution_count": null,
   "metadata": {},
   "outputs": [],
   "source": []
  },
  {
   "cell_type": "code",
   "execution_count": null,
   "metadata": {},
   "outputs": [],
   "source": []
  },
  {
   "cell_type": "code",
   "execution_count": null,
   "metadata": {},
   "outputs": [],
   "source": []
  },
  {
   "cell_type": "code",
   "execution_count": null,
   "metadata": {},
   "outputs": [],
   "source": []
  },
  {
   "cell_type": "code",
   "execution_count": null,
   "metadata": {},
   "outputs": [],
   "source": []
  },
  {
   "cell_type": "code",
   "execution_count": null,
   "metadata": {},
   "outputs": [],
   "source": []
  },
  {
   "cell_type": "code",
   "execution_count": null,
   "metadata": {},
   "outputs": [],
   "source": []
  },
  {
   "cell_type": "code",
   "execution_count": null,
   "metadata": {},
   "outputs": [],
   "source": []
  },
  {
   "cell_type": "code",
   "execution_count": null,
   "metadata": {},
   "outputs": [],
   "source": []
  }
 ],
 "metadata": {
  "kernelspec": {
   "display_name": "Python 3",
   "language": "python",
   "name": "python3"
  },
  "language_info": {
   "codemirror_mode": {
    "name": "ipython",
    "version": 3
   },
   "file_extension": ".py",
   "mimetype": "text/x-python",
   "name": "python",
   "nbconvert_exporter": "python",
   "pygments_lexer": "ipython3",
   "version": "3.6.10"
  },
  "toc": {
   "base_numbering": 1,
   "nav_menu": {},
   "number_sections": true,
   "sideBar": true,
   "skip_h1_title": false,
   "title_cell": "Table of Contents",
   "title_sidebar": "Contents",
   "toc_cell": false,
   "toc_position": {},
   "toc_section_display": true,
   "toc_window_display": false
  }
 },
 "nbformat": 4,
 "nbformat_minor": 2
}
