{
 "cells": [
  {
   "cell_type": "code",
   "execution_count": 1,
   "metadata": {
    "ExecuteTime": {
     "end_time": "2020-03-27T18:08:45.794334Z",
     "start_time": "2020-03-27T18:08:42.671357Z"
    }
   },
   "outputs": [],
   "source": [
    "import numpy as np\n",
    "import pandas as pd\n",
    "import os\n",
    "import matplotlib.pyplot as plt\n",
    "import seaborn as sns\n",
    "%matplotlib inline "
   ]
  },
  {
   "cell_type": "code",
   "execution_count": 2,
   "metadata": {
    "ExecuteTime": {
     "end_time": "2020-03-27T18:08:45.869143Z",
     "start_time": "2020-03-27T18:08:45.796321Z"
    }
   },
   "outputs": [],
   "source": [
    "tourney = pd.read_csv('NCAA_Tourney_2002_2019.csv')\n",
    "tourney_adj = pd.read_csv('tourney_adj_1.csv')\n",
    "training = pd.DataFrame()\n",
    "adv = pd.read_csv('Team_SOS_fixed.csv', sep=',')"
   ]
  },
  {
   "cell_type": "code",
   "execution_count": 43,
   "metadata": {
    "ExecuteTime": {
     "end_time": "2020-03-27T18:13:13.505933Z",
     "start_time": "2020-03-27T18:13:13.481978Z"
    }
   },
   "outputs": [],
   "source": [
    "prediction = pd.read_csv('prediction_processed.csv')"
   ]
  },
  {
   "cell_type": "markdown",
   "metadata": {},
   "source": [
    "# Data Pre-processing"
   ]
  },
  {
   "cell_type": "code",
   "execution_count": 3,
   "metadata": {
    "ExecuteTime": {
     "end_time": "2020-03-27T18:08:54.159680Z",
     "start_time": "2020-03-27T18:08:54.149708Z"
    }
   },
   "outputs": [],
   "source": [
    "training['result'] = tourney_adj['result']\n",
    "training['Season'] = tourney_adj['Season']\n",
    "training['team1_id'] = tourney_adj['team1_id']\n",
    "training['team2_id'] = tourney_adj['team2_id']"
   ]
  },
  {
   "cell_type": "code",
   "execution_count": 4,
   "metadata": {
    "ExecuteTime": {
     "end_time": "2020-03-27T18:08:56.918139Z",
     "start_time": "2020-03-27T18:08:56.871244Z"
    }
   },
   "outputs": [],
   "source": [
    "def delta_seed(row):\n",
    "    return row['team1_seed'] - row['team2_seed']\n",
    "training['delta_seed'] = tourney_adj.apply(delta_seed, axis = 1)"
   ]
  },
  {
   "cell_type": "code",
   "execution_count": 5,
   "metadata": {
    "ExecuteTime": {
     "end_time": "2020-03-27T18:08:57.608017Z",
     "start_time": "2020-03-27T18:08:57.601017Z"
    }
   },
   "outputs": [],
   "source": [
    "training = training[(training['Season'] >= 2003)]\n"
   ]
  },
  {
   "cell_type": "code",
   "execution_count": 6,
   "metadata": {
    "ExecuteTime": {
     "end_time": "2020-03-27T18:09:02.656540Z",
     "start_time": "2020-03-27T18:08:58.189601Z"
    }
   },
   "outputs": [],
   "source": [
    "# Calculate Delta Ordinals\n",
    "# No M ordinals in Fordham dataset, consider using Kaggle stats\n",
    "# Consider using rpi \n",
    "mo = pd.read_csv('MMasseyOrdinals.csv')\n",
    "mo = mo[(mo['RankingDayNum'] == 128) & (mo['Season'] >= 2003)] # See Note on MO\n",
    "\n",
    "def delta_ord(row):\n",
    "    cond =  (mo['Season'] == row['Season'])\n",
    "    cond1 = (mo['TeamID'] == row['team1_id']) & cond\n",
    "    cond2 = (mo['TeamID'] == row['team2_id']) & cond\n",
    "    t1 = mo[cond1]['OrdinalRank'].mean()\n",
    "    t2 = mo[cond2]['OrdinalRank'].mean()\n",
    "    return  t1-t2\n",
    "\n",
    "training['delta_MO'] = training.apply(delta_ord,axis=1)"
   ]
  },
  {
   "cell_type": "code",
   "execution_count": 7,
   "metadata": {
    "ExecuteTime": {
     "end_time": "2020-03-27T18:09:04.985256Z",
     "start_time": "2020-03-27T18:09:02.660517Z"
    }
   },
   "outputs": [],
   "source": [
    "rpi = pd.read_csv('TeamRPI.csv')\n",
    "\n",
    "def delta_rpi(row):\n",
    "    cond =  (rpi['Year'] == row['Season'])\n",
    "    cond1 = (rpi['team_id'] == row['team1_id']) & cond\n",
    "    cond2 = (rpi['team_id'] == row['team2_id']) & cond\n",
    "    t1 = rpi[cond1]['RPI'].values\n",
    "    t2 = rpi[cond2]['RPI'].values\n",
    "    return  t1-t2\n",
    "\n",
    "training['delta_rpi'] = training.apply(delta_rpi,axis=1)\n"
   ]
  },
  {
   "cell_type": "code",
   "execution_count": 8,
   "metadata": {
    "ExecuteTime": {
     "end_time": "2020-03-27T18:09:10.268632Z",
     "start_time": "2020-03-27T18:09:10.255666Z"
    }
   },
   "outputs": [
    {
     "data": {
      "text/plain": [
       "0       0.015\n",
       "1      -0.003\n",
       "2      -0.062\n",
       "3       0.020\n",
       "4       0.007\n",
       "        ...  \n",
       "1142    0.033\n",
       "1143   -0.050\n",
       "1144    0.019\n",
       "1145   -0.019\n",
       "1146   -0.040\n",
       "Name: delta_rpi, Length: 1085, dtype: float64"
      ]
     },
     "execution_count": 8,
     "metadata": {},
     "output_type": "execute_result"
    }
   ],
   "source": [
    "# Process rpi data\n",
    "training['delta_rpi'] = np.round(training['delta_rpi'].str.get(0), 3)\n",
    "training['delta_rpi']"
   ]
  },
  {
   "cell_type": "code",
   "execution_count": 9,
   "metadata": {
    "ExecuteTime": {
     "end_time": "2020-03-27T18:09:13.324211Z",
     "start_time": "2020-03-27T18:09:13.312242Z"
    }
   },
   "outputs": [
    {
     "name": "stdout",
     "output_type": "stream",
     "text": [
      "0.215\n",
      "-0.2\n"
     ]
    }
   ],
   "source": [
    "print(training['delta_rpi'].max())\n",
    "print(training['delta_rpi'].min())"
   ]
  },
  {
   "cell_type": "code",
   "execution_count": 10,
   "metadata": {
    "ExecuteTime": {
     "end_time": "2020-03-27T18:09:15.599316Z",
     "start_time": "2020-03-27T18:09:15.497568Z"
    }
   },
   "outputs": [],
   "source": [
    "#Calculate winning percentage\n",
    "#considering using Kaggle stats\n",
    "\n",
    "def delta_pt_season_winpct(row):\n",
    "    return row['team1_pt_team_season_wins']/(row['team1_pt_team_season_wins'] + row['team1_pt_team_season_losses'])- row['team2_pt_team_season_wins']/(row['team2_pt_team_season_wins'] + row['team2_pt_team_season_losses']) \n",
    "\n",
    "training['delta_pt_season_winpct'] = tourney_adj.apply(delta_pt_season_winpct, axis=1)"
   ]
  },
  {
   "cell_type": "code",
   "execution_count": 11,
   "metadata": {
    "ExecuteTime": {
     "end_time": "2020-03-27T18:09:16.520407Z",
     "start_time": "2020-03-27T18:09:16.112920Z"
    }
   },
   "outputs": [],
   "source": [
    "# deal with coach data\n",
    "def delta_pt_school_ncaa(row):\n",
    "    return row['team1_pt_school_ncaa'] - row['team2_pt_school_ncaa']\n",
    "def delta_pt_overall_ncaa(row):\n",
    "    return row['team1_pt_overall_ncaa'] - row['team2_pt_overall_ncaa']\n",
    "def delta_pt_school_s16(row):\n",
    "    return row['team1_pt_school_s16'] - row['team2_pt_school_s16']\n",
    "def delta_pt_overall_s16(row):\n",
    "    return row['team1_pt_overall_s16'] - row['team2_pt_overall_s16']\n",
    "def delta_pt_school_ff(row):\n",
    "    return row['team1_pt_school_ff'] - row['team2_pt_school_ff']\n",
    "def delta_pt_overall_ff(row):\n",
    "    return row['team1_pt_overall_ff'] - row['team2_pt_overall_ff']\n",
    "def delta_coach_winpct(row): #coach winning percentage difference\n",
    "    return row['team1_pt_career_overall_wins'] / (row['team1_pt_career_overall_wins'] + row['team2_pt_career_overall_losses']) - row['team1_pt_career_overall_wins'] / (row['team2_pt_career_overall_wins'] + row['team2_pt_career_overall_losses'])                 \n",
    "def delta_coach_winsdf(row): #coach career wins difference\n",
    "    return row['team1_pt_career_overall_wins'] - row['team2_pt_career_overall_wins']\n",
    "\n",
    "training['delta_pt_school_ncaa'] = tourney_adj.apply(delta_pt_school_ncaa, axis=1)\n",
    "training['delta_pt_overall_ncaa'] = tourney_adj.apply(delta_pt_overall_ncaa, axis=1)\n",
    "training['delta_pt_school_s16'] = tourney_adj.apply(delta_pt_school_s16, axis=1)\n",
    "training['delta_pt_overall_s16'] = tourney_adj.apply(delta_pt_overall_s16, axis=1)\n",
    "training['delta_pt_school_ff'] = tourney_adj.apply(delta_pt_school_ff, axis=1)\n",
    "training['delta_pt_overall_ff'] = tourney_adj.apply(delta_pt_overall_ff, axis=1)\n",
    "training['delta_coach_winpct'] = tourney_adj.apply(delta_coach_winpct, axis=1)\n",
    "training['delta_coach_winsdf'] = tourney_adj.apply(delta_coach_winsdf, axis=1)"
   ]
  },
  {
   "cell_type": "code",
   "execution_count": 12,
   "metadata": {
    "ExecuteTime": {
     "end_time": "2020-03-27T18:09:17.588135Z",
     "start_time": "2020-03-27T18:09:16.875493Z"
    }
   },
   "outputs": [],
   "source": [
    "#deal with stats\n",
    "def delta_fg2pct(row):\n",
    "    return row['team1_fg2pct'] - row['team2_fg2pct']\n",
    "def delta_fg3pct(row):\n",
    "    return row['team1_fg3pct'] - row['team2_fg3pct']\n",
    "def delta_ftpct(row):\n",
    "    return row['team1_ftpct'] - row['team2_ftpct']\n",
    "def delta_blockpct(row):\n",
    "    return row['team1_blockpct'] - row['team2_blockpct']\n",
    "def delta_oppfg2pct(row):\n",
    "    return row['team1_oppfg2pct'] - row['team2_oppfg2pct']\n",
    "def delta_oppfg3pct(row):\n",
    "    return row['team1_oppfg3pct'] - row['team2_oppfg3pct']\n",
    "def delta_oppftpct(row):\n",
    "    return row['team1_oppftpct'] - row['team2_oppftpct']\n",
    "def delta_oppblockpct(row):\n",
    "    return row['team1_oppblockpct'] - row['team2_oppblockpct']\n",
    "def delta_f3grate(row):\n",
    "    return row['team1_f3grate'] - row['team2_f3grate']\n",
    "def delta_oppf3grate(row):\n",
    "    return row['team1_oppf3grate'] - row['team2_oppf3grate']\n",
    "def delta_arate(row):\n",
    "    return row['team1_arate'] - row['team2_arate']\n",
    "def delta_opparate(row):\n",
    "    return row['team1_opparate'] - row['team2_opparate']\n",
    "def delta_stlrate(row):\n",
    "    return row['team1_stlrate'] - row['team2_stlrate']\n",
    "def delta_oppstlrate(row):\n",
    "    return row['team1_oppstlrate'] - row['team2_oppstlrate']\n",
    "def delta_oppftpct(row):\n",
    "    return row['team1_oppftpct'] - row['team2_oppftpct']\n",
    "##advanced stats\n",
    "def delta_tempo(row):\n",
    "    return row['team1_tempo'] - row['team2_tempo']\n",
    "def delta_adjtempo(row):\n",
    "    return row['team1_adjtempo'] - row['team2_adjtempo']\n",
    "def delta_adjoe(row):\n",
    "    return row['team1_adjoe'] - row['team2_adjoe']\n",
    "def delta_adjde(row):\n",
    "    return row['team1_adjde'] - row['team2_adjde']\n",
    "\n",
    "\n",
    "training['delta_fg2pct'] = tourney_adj.apply(delta_fg2pct, axis=1)\n",
    "training['delta_fg3pct'] = tourney_adj.apply(delta_fg3pct, axis=1)\n",
    "training['delta_ftpct'] = tourney_adj.apply(delta_ftpct, axis=1)\n",
    "training['delta_blockpct'] = tourney_adj.apply(delta_blockpct, axis=1)\n",
    "training['delta_oppfg2pct'] = tourney_adj.apply(delta_oppfg2pct, axis=1)\n",
    "training['delta_oppfg3pct'] = tourney_adj.apply(delta_oppfg3pct, axis=1)\n",
    "training['delta_oppfg3pct'] = tourney_adj.apply(delta_oppfg3pct, axis=1)\n",
    "training['delta_oppftpct'] = tourney_adj.apply(delta_oppftpct, axis=1)\n",
    "training['delta_oppblockpct'] = tourney_adj.apply(delta_oppblockpct, axis=1)\n",
    "training['delta_f3grate'] = tourney_adj.apply(delta_f3grate, axis=1)\n",
    "training['delta_oppf3grate'] = tourney_adj.apply(delta_oppf3grate, axis=1)\n",
    "training['delta_arate'] = tourney_adj.apply(delta_arate, axis=1)\n",
    "training['delta_opparate'] = tourney_adj.apply(delta_opparate, axis=1)\n",
    "training['delta_stlrate'] = tourney_adj.apply(delta_stlrate, axis=1)\n",
    "training['delta_oppstlrate'] = tourney_adj.apply(delta_oppstlrate, axis=1)\n",
    "#training['delta_tempo'] = tourney_adj.apply(delta_tempo, axis=1)\n",
    "training['delta_adjtempo'] = tourney_adj.apply(delta_adjtempo, axis=1)\n",
    "training['delta_adjoe'] = tourney_adj.apply(delta_adjoe, axis=1)\n",
    "training['delta_adjde'] = tourney_adj.apply(delta_adjde, axis=1)\n"
   ]
  },
  {
   "cell_type": "code",
   "execution_count": 13,
   "metadata": {
    "ExecuteTime": {
     "end_time": "2020-03-27T18:09:17.740874Z",
     "start_time": "2020-03-27T18:09:17.693999Z"
    }
   },
   "outputs": [],
   "source": [
    "def delta_sos(row):\n",
    "    return row['delta_SOS1'] - row['delta_SOS2']\n",
    "\n",
    "training['delta_SOS'] = tourney_adj.apply(delta_sos, axis=1)"
   ]
  },
  {
   "cell_type": "code",
   "execution_count": 14,
   "metadata": {
    "ExecuteTime": {
     "end_time": "2020-03-27T18:09:18.637008Z",
     "start_time": "2020-03-27T18:09:18.634016Z"
    }
   },
   "outputs": [],
   "source": [
    "#training['delta_SOS']"
   ]
  },
  {
   "cell_type": "code",
   "execution_count": 15,
   "metadata": {
    "ExecuteTime": {
     "end_time": "2020-03-27T18:09:19.036940Z",
     "start_time": "2020-03-27T18:09:19.028962Z"
    }
   },
   "outputs": [
    {
     "data": {
      "text/plain": [
       "Index(['result', 'Season', 'team1_id', 'team2_id', 'delta_seed', 'delta_MO',\n",
       "       'delta_rpi', 'delta_pt_season_winpct', 'delta_pt_school_ncaa',\n",
       "       'delta_pt_overall_ncaa', 'delta_pt_school_s16', 'delta_pt_overall_s16',\n",
       "       'delta_pt_school_ff', 'delta_pt_overall_ff', 'delta_coach_winpct',\n",
       "       'delta_coach_winsdf', 'delta_fg2pct', 'delta_fg3pct', 'delta_ftpct',\n",
       "       'delta_blockpct', 'delta_oppfg2pct', 'delta_oppfg3pct',\n",
       "       'delta_oppftpct', 'delta_oppblockpct', 'delta_f3grate',\n",
       "       'delta_oppf3grate', 'delta_arate', 'delta_opparate', 'delta_stlrate',\n",
       "       'delta_oppstlrate', 'delta_adjtempo', 'delta_adjoe', 'delta_adjde',\n",
       "       'delta_SOS'],\n",
       "      dtype='object')"
      ]
     },
     "execution_count": 15,
     "metadata": {},
     "output_type": "execute_result"
    }
   ],
   "source": [
    "training.columns"
   ]
  },
  {
   "cell_type": "code",
   "execution_count": 16,
   "metadata": {
    "ExecuteTime": {
     "end_time": "2020-03-27T18:09:23.880329Z",
     "start_time": "2020-03-27T18:09:23.875322Z"
    }
   },
   "outputs": [],
   "source": [
    "cols = ['delta_seed', 'delta_rpi', 'delta_MO', 'delta_pt_season_winpct','delta_pt_overall_s16', 'delta_pt_school_s16',\n",
    "        'delta_pt_school_ncaa', 'delta_pt_overall_ncaa', 'delta_pt_school_ff','delta_pt_overall_ff', 'delta_coach_winpct', 'delta_coach_winsdf', 'delta_blockpct',\n",
    "        'delta_fg2pct','delta_fg3pct','delta_ftpct',\n",
    "        'delta_oppfg3pct','delta_oppftpct','delta_oppblockpct','delta_f3grate','delta_oppf3grate',\n",
    "        'delta_stlrate','delta_arate','delta_adjtempo','delta_adjoe','delta_adjde', 'delta_SOS']   "
   ]
  },
  {
   "cell_type": "code",
   "execution_count": 17,
   "metadata": {
    "ExecuteTime": {
     "end_time": "2020-03-27T18:09:27.614592Z",
     "start_time": "2020-03-27T18:09:27.239577Z"
    }
   },
   "outputs": [
    {
     "data": {
      "text/plain": [
       "<matplotlib.axes._subplots.AxesSubplot at 0x211dfff6c18>"
      ]
     },
     "execution_count": 17,
     "metadata": {},
     "output_type": "execute_result"
    },
    {
     "data": {
      "image/png": "[encoded data removed]",
      "text/plain": [
       "<Figure size 432x288 with 2 Axes>"
      ]
     },
     "metadata": {
      "needs_background": "light"
     },
     "output_type": "display_data"
    }
   ],
   "source": [
    "sns.heatmap(training.isnull(), cmap='coolwarm', yticklabels=False)"
   ]
  },
  {
   "cell_type": "code",
   "execution_count": 18,
   "metadata": {
    "ExecuteTime": {
     "end_time": "2020-03-27T18:09:30.985030Z",
     "start_time": "2020-03-27T18:09:30.979026Z"
    }
   },
   "outputs": [],
   "source": [
    "training.dropna(inplace=True, axis=0)"
   ]
  },
  {
   "cell_type": "code",
   "execution_count": 19,
   "metadata": {
    "ExecuteTime": {
     "end_time": "2020-03-27T18:09:37.173229Z",
     "start_time": "2020-03-27T18:09:37.167227Z"
    }
   },
   "outputs": [],
   "source": [
    "testing = training[training['Season'] >= 2017]\n"
   ]
  },
  {
   "cell_type": "code",
   "execution_count": null,
   "metadata": {},
   "outputs": [],
   "source": []
  },
  {
   "cell_type": "code",
   "execution_count": 20,
   "metadata": {
    "ExecuteTime": {
     "end_time": "2020-03-27T18:09:50.902727Z",
     "start_time": "2020-03-27T18:09:50.869816Z"
    }
   },
   "outputs": [
    {
     "data": {
      "text/html": [
       "<div>\n",
       "<style scoped>\n",
       "    .dataframe tbody tr th:only-of-type {\n",
       "        vertical-align: middle;\n",
       "    }\n",
       "\n",
       "    .dataframe tbody tr th {\n",
       "        vertical-align: top;\n",
       "    }\n",
       "\n",
       "    .dataframe thead th {\n",
       "        text-align: right;\n",
       "    }\n",
       "</style>\n",
       "<table border=\"1\" class=\"dataframe\">\n",
       "  <thead>\n",
       "    <tr style=\"text-align: right;\">\n",
       "      <th></th>\n",
       "      <th>result</th>\n",
       "      <th>Season</th>\n",
       "      <th>team1_id</th>\n",
       "      <th>team2_id</th>\n",
       "      <th>delta_seed</th>\n",
       "      <th>delta_MO</th>\n",
       "      <th>delta_rpi</th>\n",
       "      <th>delta_pt_season_winpct</th>\n",
       "      <th>delta_pt_school_ncaa</th>\n",
       "      <th>delta_pt_overall_ncaa</th>\n",
       "      <th>...</th>\n",
       "      <th>delta_f3grate</th>\n",
       "      <th>delta_oppf3grate</th>\n",
       "      <th>delta_arate</th>\n",
       "      <th>delta_opparate</th>\n",
       "      <th>delta_stlrate</th>\n",
       "      <th>delta_oppstlrate</th>\n",
       "      <th>delta_adjtempo</th>\n",
       "      <th>delta_adjoe</th>\n",
       "      <th>delta_adjde</th>\n",
       "      <th>delta_SOS</th>\n",
       "    </tr>\n",
       "  </thead>\n",
       "  <tbody>\n",
       "    <tr>\n",
       "      <th>0</th>\n",
       "      <td>0</td>\n",
       "      <td>2019</td>\n",
       "      <td>1341</td>\n",
       "      <td>1192</td>\n",
       "      <td>0</td>\n",
       "      <td>1.343750</td>\n",
       "      <td>0.015</td>\n",
       "      <td>0.029412</td>\n",
       "      <td>0</td>\n",
       "      <td>0</td>\n",
       "      <td>...</td>\n",
       "      <td>-1.372513</td>\n",
       "      <td>-2.615148</td>\n",
       "      <td>-4.983443</td>\n",
       "      <td>0.615764</td>\n",
       "      <td>0.012533</td>\n",
       "      <td>-0.019226</td>\n",
       "      <td>4.1858</td>\n",
       "      <td>-4.6410</td>\n",
       "      <td>-4.5910</td>\n",
       "      <td>0.31</td>\n",
       "    </tr>\n",
       "    <tr>\n",
       "      <th>1</th>\n",
       "      <td>1</td>\n",
       "      <td>2019</td>\n",
       "      <td>1125</td>\n",
       "      <td>1396</td>\n",
       "      <td>0</td>\n",
       "      <td>-3.749038</td>\n",
       "      <td>-0.003</td>\n",
       "      <td>0.125000</td>\n",
       "      <td>-1</td>\n",
       "      <td>-10</td>\n",
       "      <td>...</td>\n",
       "      <td>6.153309</td>\n",
       "      <td>-3.502142</td>\n",
       "      <td>7.101837</td>\n",
       "      <td>-5.426304</td>\n",
       "      <td>-0.032552</td>\n",
       "      <td>0.005547</td>\n",
       "      <td>2.3659</td>\n",
       "      <td>5.9610</td>\n",
       "      <td>2.3230</td>\n",
       "      <td>-6.53</td>\n",
       "    </tr>\n",
       "    <tr>\n",
       "      <th>2</th>\n",
       "      <td>0</td>\n",
       "      <td>2019</td>\n",
       "      <td>1300</td>\n",
       "      <td>1295</td>\n",
       "      <td>0</td>\n",
       "      <td>92.859375</td>\n",
       "      <td>-0.062</td>\n",
       "      <td>-0.013369</td>\n",
       "      <td>3</td>\n",
       "      <td>3</td>\n",
       "      <td>...</td>\n",
       "      <td>-11.582364</td>\n",
       "      <td>-1.713508</td>\n",
       "      <td>13.415030</td>\n",
       "      <td>7.545996</td>\n",
       "      <td>0.007333</td>\n",
       "      <td>0.011520</td>\n",
       "      <td>0.4153</td>\n",
       "      <td>-9.9199</td>\n",
       "      <td>-1.2120</td>\n",
       "      <td>-8.99</td>\n",
       "    </tr>\n",
       "    <tr>\n",
       "      <th>3</th>\n",
       "      <td>1</td>\n",
       "      <td>2019</td>\n",
       "      <td>1113</td>\n",
       "      <td>1385</td>\n",
       "      <td>0</td>\n",
       "      <td>-7.843750</td>\n",
       "      <td>0.020</td>\n",
       "      <td>0.060606</td>\n",
       "      <td>0</td>\n",
       "      <td>1</td>\n",
       "      <td>...</td>\n",
       "      <td>-2.573200</td>\n",
       "      <td>0.772655</td>\n",
       "      <td>0.899414</td>\n",
       "      <td>0.687085</td>\n",
       "      <td>-0.035586</td>\n",
       "      <td>0.015811</td>\n",
       "      <td>0.0084</td>\n",
       "      <td>0.1040</td>\n",
       "      <td>-2.3596</td>\n",
       "      <td>0.56</td>\n",
       "    </tr>\n",
       "    <tr>\n",
       "      <th>4</th>\n",
       "      <td>0</td>\n",
       "      <td>2019</td>\n",
       "      <td>1257</td>\n",
       "      <td>1278</td>\n",
       "      <td>-3</td>\n",
       "      <td>-22.453125</td>\n",
       "      <td>0.007</td>\n",
       "      <td>-0.011586</td>\n",
       "      <td>-1</td>\n",
       "      <td>7</td>\n",
       "      <td>...</td>\n",
       "      <td>14.886550</td>\n",
       "      <td>3.223880</td>\n",
       "      <td>-6.856453</td>\n",
       "      <td>-1.875984</td>\n",
       "      <td>-0.006203</td>\n",
       "      <td>-0.003399</td>\n",
       "      <td>-0.3106</td>\n",
       "      <td>2.7000</td>\n",
       "      <td>-3.8352</td>\n",
       "      <td>-0.23</td>\n",
       "    </tr>\n",
       "  </tbody>\n",
       "</table>\n",
       "<p>5 rows × 34 columns</p>\n",
       "</div>"
      ],
      "text/plain": [
       "   result  Season  team1_id  team2_id  delta_seed   delta_MO  delta_rpi  \\\n",
       "0       0    2019      1341      1192           0   1.343750      0.015   \n",
       "1       1    2019      1125      1396           0  -3.749038     -0.003   \n",
       "2       0    2019      1300      1295           0  92.859375     -0.062   \n",
       "3       1    2019      1113      1385           0  -7.843750      0.020   \n",
       "4       0    2019      1257      1278          -3 -22.453125      0.007   \n",
       "\n",
       "   delta_pt_season_winpct  delta_pt_school_ncaa  delta_pt_overall_ncaa  ...  \\\n",
       "0                0.029412                     0                      0  ...   \n",
       "1                0.125000                    -1                    -10  ...   \n",
       "2               -0.013369                     3                      3  ...   \n",
       "3                0.060606                     0                      1  ...   \n",
       "4               -0.011586                    -1                      7  ...   \n",
       "\n",
       "   delta_f3grate  delta_oppf3grate  delta_arate  delta_opparate  \\\n",
       "0      -1.372513         -2.615148    -4.983443        0.615764   \n",
       "1       6.153309         -3.502142     7.101837       -5.426304   \n",
       "2     -11.582364         -1.713508    13.415030        7.545996   \n",
       "3      -2.573200          0.772655     0.899414        0.687085   \n",
       "4      14.886550          3.223880    -6.856453       -1.875984   \n",
       "\n",
       "   delta_stlrate  delta_oppstlrate  delta_adjtempo  delta_adjoe  delta_adjde  \\\n",
       "0       0.012533         -0.019226          4.1858      -4.6410      -4.5910   \n",
       "1      -0.032552          0.005547          2.3659       5.9610       2.3230   \n",
       "2       0.007333          0.011520          0.4153      -9.9199      -1.2120   \n",
       "3      -0.035586          0.015811          0.0084       0.1040      -2.3596   \n",
       "4      -0.006203         -0.003399         -0.3106       2.7000      -3.8352   \n",
       "\n",
       "   delta_SOS  \n",
       "0       0.31  \n",
       "1      -6.53  \n",
       "2      -8.99  \n",
       "3       0.56  \n",
       "4      -0.23  \n",
       "\n",
       "[5 rows x 34 columns]"
      ]
     },
     "execution_count": 20,
     "metadata": {},
     "output_type": "execute_result"
    }
   ],
   "source": [
    "testing.head()"
   ]
  },
  {
   "cell_type": "code",
   "execution_count": 21,
   "metadata": {
    "ExecuteTime": {
     "end_time": "2020-03-27T18:09:51.932731Z",
     "start_time": "2020-03-27T18:09:51.927721Z"
    }
   },
   "outputs": [],
   "source": [
    "training = training[training['Season'] < 2017]"
   ]
  },
  {
   "cell_type": "code",
   "execution_count": null,
   "metadata": {
    "ExecuteTime": {
     "end_time": "2020-03-25T18:06:56.099032Z",
     "start_time": "2020-03-25T18:06:56.093047Z"
    }
   },
   "outputs": [],
   "source": []
  },
  {
   "cell_type": "markdown",
   "metadata": {},
   "source": [
    "# Feature Selection"
   ]
  },
  {
   "cell_type": "markdown",
   "metadata": {},
   "source": [
    "## VIF"
   ]
  },
  {
   "cell_type": "code",
   "execution_count": 22,
   "metadata": {
    "ExecuteTime": {
     "end_time": "2020-03-27T18:10:23.258231Z",
     "start_time": "2020-03-27T18:10:21.799740Z"
    }
   },
   "outputs": [],
   "source": [
    "from patsy import dmatrices\n",
    "import statsmodels.api as sm\n",
    "from statsmodels.stats.outliers_influence import variance_inflation_factor\n"
   ]
  },
  {
   "cell_type": "code",
   "execution_count": 23,
   "metadata": {
    "ExecuteTime": {
     "end_time": "2020-03-27T18:10:23.662411Z",
     "start_time": "2020-03-27T18:10:23.575153Z"
    }
   },
   "outputs": [],
   "source": [
    "#gather features\n",
    "features = \"+\".join(training[cols])\n",
    "\n",
    "# get y and X dataframes based on this regression:\n",
    "y, X = dmatrices('result ~' + features, training, return_type='dataframe')"
   ]
  },
  {
   "cell_type": "code",
   "execution_count": 24,
   "metadata": {
    "ExecuteTime": {
     "end_time": "2020-03-27T18:10:24.143278Z",
     "start_time": "2020-03-27T18:10:24.081446Z"
    }
   },
   "outputs": [],
   "source": [
    "# For each X, calculate VIF and save in dataframe\n",
    "vif = pd.DataFrame()\n",
    "vif[\"VIF Factor\"] = [variance_inflation_factor(X.values, i) for i in range(X.shape[1])]\n",
    "vif[\"features\"] = X.columns\n",
    "vif = vif[vif['VIF Factor'] < 100] "
   ]
  },
  {
   "cell_type": "code",
   "execution_count": 25,
   "metadata": {
    "ExecuteTime": {
     "end_time": "2020-03-27T18:10:26.018572Z",
     "start_time": "2020-03-27T18:10:25.526048Z"
    }
   },
   "outputs": [
    {
     "data": {
      "text/plain": [
       "<matplotlib.axes._subplots.AxesSubplot at 0x211dffe8518>"
      ]
     },
     "execution_count": 25,
     "metadata": {},
     "output_type": "execute_result"
    },
    {
     "data": {
      "image/png": "[encoded data removed]",
      "text/plain": [
       "<Figure size 864x576 with 1 Axes>"
      ]
     },
     "metadata": {},
     "output_type": "display_data"
    }
   ],
   "source": [
    "sns.set(style = 'whitegrid')\n",
    "plt.figure(figsize=(12,8))\n",
    "plt.xlabel(\"Features\")\n",
    "sns.barplot(y = vif['VIF Factor'].round(1), x = vif.index)"
   ]
  },
  {
   "cell_type": "code",
   "execution_count": 26,
   "metadata": {
    "ExecuteTime": {
     "end_time": "2020-03-27T18:10:28.889968Z",
     "start_time": "2020-03-27T18:10:28.876982Z"
    }
   },
   "outputs": [
    {
     "data": {
      "text/html": [
       "<div>\n",
       "<style scoped>\n",
       "    .dataframe tbody tr th:only-of-type {\n",
       "        vertical-align: middle;\n",
       "    }\n",
       "\n",
       "    .dataframe tbody tr th {\n",
       "        vertical-align: top;\n",
       "    }\n",
       "\n",
       "    .dataframe thead th {\n",
       "        text-align: right;\n",
       "    }\n",
       "</style>\n",
       "<table border=\"1\" class=\"dataframe\">\n",
       "  <thead>\n",
       "    <tr style=\"text-align: right;\">\n",
       "      <th></th>\n",
       "      <th>VIF Factor</th>\n",
       "      <th>features</th>\n",
       "    </tr>\n",
       "  </thead>\n",
       "  <tbody>\n",
       "    <tr>\n",
       "      <th>0</th>\n",
       "      <td>1.1</td>\n",
       "      <td>Intercept</td>\n",
       "    </tr>\n",
       "    <tr>\n",
       "      <th>1</th>\n",
       "      <td>1.2</td>\n",
       "      <td>delta_seed</td>\n",
       "    </tr>\n",
       "    <tr>\n",
       "      <th>2</th>\n",
       "      <td>15.6</td>\n",
       "      <td>delta_rpi</td>\n",
       "    </tr>\n",
       "    <tr>\n",
       "      <th>3</th>\n",
       "      <td>10.6</td>\n",
       "      <td>delta_MO</td>\n",
       "    </tr>\n",
       "    <tr>\n",
       "      <th>4</th>\n",
       "      <td>7.0</td>\n",
       "      <td>delta_pt_season_winpct</td>\n",
       "    </tr>\n",
       "    <tr>\n",
       "      <th>5</th>\n",
       "      <td>43.4</td>\n",
       "      <td>delta_pt_overall_s16</td>\n",
       "    </tr>\n",
       "    <tr>\n",
       "      <th>6</th>\n",
       "      <td>63.0</td>\n",
       "      <td>delta_pt_school_s16</td>\n",
       "    </tr>\n",
       "    <tr>\n",
       "      <th>7</th>\n",
       "      <td>25.8</td>\n",
       "      <td>delta_pt_school_ncaa</td>\n",
       "    </tr>\n",
       "    <tr>\n",
       "      <th>8</th>\n",
       "      <td>33.5</td>\n",
       "      <td>delta_pt_overall_ncaa</td>\n",
       "    </tr>\n",
       "    <tr>\n",
       "      <th>9</th>\n",
       "      <td>30.2</td>\n",
       "      <td>delta_pt_school_ff</td>\n",
       "    </tr>\n",
       "    <tr>\n",
       "      <th>10</th>\n",
       "      <td>27.2</td>\n",
       "      <td>delta_pt_overall_ff</td>\n",
       "    </tr>\n",
       "    <tr>\n",
       "      <th>11</th>\n",
       "      <td>1.2</td>\n",
       "      <td>delta_coach_winpct</td>\n",
       "    </tr>\n",
       "    <tr>\n",
       "      <th>12</th>\n",
       "      <td>12.1</td>\n",
       "      <td>delta_coach_winsdf</td>\n",
       "    </tr>\n",
       "    <tr>\n",
       "      <th>13</th>\n",
       "      <td>1.7</td>\n",
       "      <td>delta_blockpct</td>\n",
       "    </tr>\n",
       "    <tr>\n",
       "      <th>14</th>\n",
       "      <td>1.9</td>\n",
       "      <td>delta_fg2pct</td>\n",
       "    </tr>\n",
       "    <tr>\n",
       "      <th>15</th>\n",
       "      <td>1.6</td>\n",
       "      <td>delta_fg3pct</td>\n",
       "    </tr>\n",
       "    <tr>\n",
       "      <th>16</th>\n",
       "      <td>1.3</td>\n",
       "      <td>delta_ftpct</td>\n",
       "    </tr>\n",
       "    <tr>\n",
       "      <th>17</th>\n",
       "      <td>1.5</td>\n",
       "      <td>delta_oppfg3pct</td>\n",
       "    </tr>\n",
       "    <tr>\n",
       "      <th>18</th>\n",
       "      <td>1.1</td>\n",
       "      <td>delta_oppftpct</td>\n",
       "    </tr>\n",
       "    <tr>\n",
       "      <th>19</th>\n",
       "      <td>1.4</td>\n",
       "      <td>delta_oppblockpct</td>\n",
       "    </tr>\n",
       "    <tr>\n",
       "      <th>20</th>\n",
       "      <td>1.5</td>\n",
       "      <td>delta_f3grate</td>\n",
       "    </tr>\n",
       "    <tr>\n",
       "      <th>21</th>\n",
       "      <td>1.2</td>\n",
       "      <td>delta_oppf3grate</td>\n",
       "    </tr>\n",
       "    <tr>\n",
       "      <th>22</th>\n",
       "      <td>1.5</td>\n",
       "      <td>delta_stlrate</td>\n",
       "    </tr>\n",
       "    <tr>\n",
       "      <th>23</th>\n",
       "      <td>1.2</td>\n",
       "      <td>delta_arate</td>\n",
       "    </tr>\n",
       "    <tr>\n",
       "      <th>24</th>\n",
       "      <td>1.4</td>\n",
       "      <td>delta_adjtempo</td>\n",
       "    </tr>\n",
       "    <tr>\n",
       "      <th>25</th>\n",
       "      <td>8.8</td>\n",
       "      <td>delta_adjoe</td>\n",
       "    </tr>\n",
       "    <tr>\n",
       "      <th>26</th>\n",
       "      <td>6.1</td>\n",
       "      <td>delta_adjde</td>\n",
       "    </tr>\n",
       "    <tr>\n",
       "      <th>27</th>\n",
       "      <td>10.7</td>\n",
       "      <td>delta_SOS</td>\n",
       "    </tr>\n",
       "  </tbody>\n",
       "</table>\n",
       "</div>"
      ],
      "text/plain": [
       "    VIF Factor                features\n",
       "0          1.1               Intercept\n",
       "1          1.2              delta_seed\n",
       "2         15.6               delta_rpi\n",
       "3         10.6                delta_MO\n",
       "4          7.0  delta_pt_season_winpct\n",
       "5         43.4    delta_pt_overall_s16\n",
       "6         63.0     delta_pt_school_s16\n",
       "7         25.8    delta_pt_school_ncaa\n",
       "8         33.5   delta_pt_overall_ncaa\n",
       "9         30.2      delta_pt_school_ff\n",
       "10        27.2     delta_pt_overall_ff\n",
       "11         1.2      delta_coach_winpct\n",
       "12        12.1      delta_coach_winsdf\n",
       "13         1.7          delta_blockpct\n",
       "14         1.9            delta_fg2pct\n",
       "15         1.6            delta_fg3pct\n",
       "16         1.3             delta_ftpct\n",
       "17         1.5         delta_oppfg3pct\n",
       "18         1.1          delta_oppftpct\n",
       "19         1.4       delta_oppblockpct\n",
       "20         1.5           delta_f3grate\n",
       "21         1.2        delta_oppf3grate\n",
       "22         1.5           delta_stlrate\n",
       "23         1.2             delta_arate\n",
       "24         1.4          delta_adjtempo\n",
       "25         8.8             delta_adjoe\n",
       "26         6.1             delta_adjde\n",
       "27        10.7               delta_SOS"
      ]
     },
     "execution_count": 26,
     "metadata": {},
     "output_type": "execute_result"
    }
   ],
   "source": [
    "vif.round(1)"
   ]
  },
  {
   "cell_type": "code",
   "execution_count": 27,
   "metadata": {
    "ExecuteTime": {
     "end_time": "2020-03-27T18:10:29.351718Z",
     "start_time": "2020-03-27T18:10:29.346727Z"
    }
   },
   "outputs": [],
   "source": [
    "#We remove features that have high vifs\n",
    "cols.remove('delta_pt_overall_s16')\n",
    "cols.remove('delta_pt_school_ncaa')\n",
    "cols.remove('delta_pt_overall_ncaa')\n",
    "cols.remove('delta_pt_school_ff')\n",
    "cols.remove('delta_pt_overall_ff')\n",
    "cols.remove('delta_coach_winsdf')\n",
    "cols.remove('delta_SOS')"
   ]
  },
  {
   "cell_type": "code",
   "execution_count": 29,
   "metadata": {
    "ExecuteTime": {
     "end_time": "2020-03-27T18:10:31.705078Z",
     "start_time": "2020-03-27T18:10:31.700092Z"
    }
   },
   "outputs": [
    {
     "name": "stdout",
     "output_type": "stream",
     "text": [
      "(866, 34)\n",
      "(197, 34)\n"
     ]
    }
   ],
   "source": [
    "print(training.shape)\n",
    "print(testing.shape)"
   ]
  },
  {
   "cell_type": "markdown",
   "metadata": {},
   "source": [
    "## Tree-based Feature Selection"
   ]
  },
  {
   "cell_type": "code",
   "execution_count": 30,
   "metadata": {
    "ExecuteTime": {
     "end_time": "2020-03-27T18:10:40.146611Z",
     "start_time": "2020-03-27T18:10:38.521870Z"
    }
   },
   "outputs": [
    {
     "name": "stderr",
     "output_type": "stream",
     "text": [
      "C:\\Users\\Zhihan Yang\\Anaconda3\\lib\\site-packages\\sklearn\\ensemble\\weight_boosting.py:29: DeprecationWarning: numpy.core.umath_tests is an internal NumPy module and should not be imported. It will be removed in a future NumPy release.\n",
      "  from numpy.core.umath_tests import inner1d\n"
     ]
    },
    {
     "name": "stdout",
     "output_type": "stream",
     "text": [
      "Feature ranking:\n",
      "1. feature 0 (0.189415)  delta_seed\n",
      "2. feature 1 (0.166459)  delta_rpi\n",
      "3. feature 2 (0.062224)  delta_MO\n",
      "4. feature 18 (0.061148)  delta_adjoe\n",
      "5. feature 19 (0.048152)  delta_adjde\n",
      "6. feature 3 (0.043570)  delta_pt_season_winpct\n",
      "7. feature 4 (0.038158)  delta_pt_school_s16\n",
      "8. feature 6 (0.032826)  delta_blockpct\n",
      "9. feature 10 (0.032755)  delta_oppfg3pct\n",
      "10. feature 7 (0.032099)  delta_fg2pct\n",
      "11. feature 5 (0.031978)  delta_coach_winpct\n",
      "12. feature 16 (0.030769)  delta_arate\n",
      "13. feature 15 (0.030422)  delta_stlrate\n",
      "14. feature 9 (0.029428)  delta_ftpct\n",
      "15. feature 11 (0.029148)  delta_oppftpct\n",
      "16. feature 12 (0.028670)  delta_oppblockpct\n",
      "17. feature 14 (0.028664)  delta_oppf3grate\n",
      "18. feature 17 (0.028596)  delta_adjtempo\n",
      "19. feature 8 (0.027949)  delta_fg3pct\n",
      "20. feature 13 (0.027571)  delta_f3grate\n"
     ]
    },
    {
     "data": {
      "image/png": "[encoded data removed]",
      "text/plain": [
       "<Figure size 432x288 with 1 Axes>"
      ]
     },
     "metadata": {},
     "output_type": "display_data"
    }
   ],
   "source": [
    "## ExtraTree Classifier case\n",
    "#from sklearn.datasets import make_classification\n",
    "\n",
    "from sklearn.ensemble import ExtraTreesClassifier\n",
    "\n",
    "X = training[cols]\n",
    "y = training['result']\n",
    "\n",
    "# Build a forest and compute the feature importances\n",
    "forest = ExtraTreesClassifier(n_estimators=500,\n",
    "                              random_state=0)\n",
    "\n",
    "forest.fit(X, y)\n",
    "importances = forest.feature_importances_\n",
    "std = np.std([tree.feature_importances_ for tree in forest.estimators_],\n",
    "             axis=0)\n",
    "indices = np.argsort(importances)[::-1]\n",
    "\n",
    "# Print the feature ranking\n",
    "print(\"Feature ranking:\")\n",
    "\n",
    "for f in range(X.shape[1]):\n",
    "    print(\"%d. feature %d (%f)  %s\" % (f + 1, indices[f], importances[indices[f]], cols[indices[f]]))\n",
    "\n",
    "# Plot the feature importances of the forest\n",
    "plt.figure()\n",
    "plt.title(\"Feature importances\")\n",
    "plt.bar(range(X.shape[1]), importances[indices],\n",
    "       color=\"r\", yerr=std[indices], align=\"center\")\n",
    "plt.xticks(range(X.shape[1]), indices)\n",
    "plt.xlim([-1, X.shape[1]])\n",
    "plt.show()"
   ]
  },
  {
   "cell_type": "code",
   "execution_count": 31,
   "metadata": {
    "ExecuteTime": {
     "end_time": "2020-03-27T18:10:47.403628Z",
     "start_time": "2020-03-27T18:10:47.397644Z"
    }
   },
   "outputs": [],
   "source": [
    "cols.remove('delta_fg3pct')\n",
    "cols.remove('delta_f3grate')\n",
    "cols.remove('delta_adjtempo')\n",
    "cols.remove('delta_oppblockpct')\n",
    "cols.remove('delta_oppf3grate')\n",
    "#cols.remove('delta_ftpct')"
   ]
  },
  {
   "cell_type": "code",
   "execution_count": null,
   "metadata": {},
   "outputs": [],
   "source": []
  },
  {
   "cell_type": "markdown",
   "metadata": {},
   "source": [
    "## Lasso (L1 regularization)"
   ]
  },
  {
   "cell_type": "code",
   "execution_count": 32,
   "metadata": {
    "ExecuteTime": {
     "end_time": "2020-03-27T18:10:50.032525Z",
     "start_time": "2020-03-27T18:10:49.940772Z"
    }
   },
   "outputs": [],
   "source": [
    "from sklearn.model_selection import train_test_split\n",
    "from sklearn.linear_model import Lasso, LogisticRegression\n",
    "from sklearn.feature_selection import SelectFromModel\n",
    "from sklearn.preprocessing import StandardScaler\n",
    "from sklearn.svm import LinearSVC"
   ]
  },
  {
   "cell_type": "code",
   "execution_count": null,
   "metadata": {
    "ExecuteTime": {
     "end_time": "2020-03-27T17:39:45.000484Z",
     "start_time": "2020-03-27T17:39:44.997498Z"
    }
   },
   "outputs": [],
   "source": [
    "#training.info()"
   ]
  },
  {
   "cell_type": "code",
   "execution_count": null,
   "metadata": {
    "ExecuteTime": {
     "end_time": "2020-03-27T17:39:45.426334Z",
     "start_time": "2020-03-27T17:39:45.422344Z"
    }
   },
   "outputs": [],
   "source": [
    "#data = training[cols].drop('delta_MO', axis=1)\n",
    "#data = training[cols]\n",
    "\n",
    "#X_train, X_test, y_train, y_test = train_test_split(\n",
    "#    data, y, test_size=0.3)\n",
    "#X_train.shape, X_test.shape"
   ]
  },
  {
   "cell_type": "code",
   "execution_count": 33,
   "metadata": {
    "ExecuteTime": {
     "end_time": "2020-03-27T18:10:52.003633Z",
     "start_time": "2020-03-27T18:10:51.997625Z"
    }
   },
   "outputs": [
    {
     "data": {
      "text/plain": [
       "StandardScaler(copy=True, with_mean=True, with_std=True)"
      ]
     },
     "execution_count": 33,
     "metadata": {},
     "output_type": "execute_result"
    }
   ],
   "source": [
    "scaler = StandardScaler()\n",
    "scaler.fit(training[cols])"
   ]
  },
  {
   "cell_type": "code",
   "execution_count": 34,
   "metadata": {
    "ExecuteTime": {
     "end_time": "2020-03-27T18:10:53.643242Z",
     "start_time": "2020-03-27T18:10:53.629298Z"
    }
   },
   "outputs": [
    {
     "data": {
      "text/plain": [
       "SelectFromModel(estimator=LogisticRegression(C=1, class_weight=None, dual=False, fit_intercept=True,\n",
       "          intercept_scaling=1, max_iter=100, multi_class='ovr', n_jobs=1,\n",
       "          penalty='l1', random_state=None, solver='liblinear', tol=0.0001,\n",
       "          verbose=0, warm_start=False),\n",
       "        norm_order=1, prefit=False, threshold=None)"
      ]
     },
     "execution_count": 34,
     "metadata": {},
     "output_type": "execute_result"
    }
   ],
   "source": [
    "#Lasso regularization with logistic\n",
    "\n",
    "sel_ = SelectFromModel(LogisticRegression(C=1, penalty='l1'))\n",
    "#sel_ = SelectFromModel(LinearSVC(C=0.01, penalty='l1', dual=False))\n",
    "sel_.fit(scaler.transform(training[cols].fillna(0)), training['result'])"
   ]
  },
  {
   "cell_type": "code",
   "execution_count": 35,
   "metadata": {
    "ExecuteTime": {
     "end_time": "2020-03-27T18:10:55.909283Z",
     "start_time": "2020-03-27T18:10:55.895321Z"
    }
   },
   "outputs": [
    {
     "name": "stdout",
     "output_type": "stream",
     "text": [
      "['delta_seed', 'delta_rpi', 'delta_MO', 'delta_pt_season_winpct', 'delta_pt_school_s16', 'delta_coach_winpct', 'delta_blockpct', 'delta_fg2pct', 'delta_ftpct', 'delta_oppfg3pct', 'delta_oppftpct', 'delta_stlrate', 'delta_arate', 'delta_adjoe', 'delta_adjde']\n",
      "[True, True, True, True, True, True, True, True, True, True, True, True, True, True, True]\n",
      "\n",
      "\n",
      "Number of features to be removed:  0\n"
     ]
    },
    {
     "data": {
      "text/plain": [
       "Index([], dtype='object')"
      ]
     },
     "execution_count": 35,
     "metadata": {},
     "output_type": "execute_result"
    }
   ],
   "source": [
    "print([i for i in cols])\n",
    "print([i for i in sel_.get_support()])\n",
    "print('\\n')\n",
    "print('Number of features to be removed: ', np.sum(sel_.estimator_.coef_ == 0))\n",
    "removed_feats = training[cols].columns[(sel_.estimator_.coef_ == 0).ravel().tolist()]\n",
    "removed_feats"
   ]
  },
  {
   "cell_type": "code",
   "execution_count": null,
   "metadata": {
    "ExecuteTime": {
     "end_time": "2020-03-27T16:19:22.197380Z",
     "start_time": "2020-03-27T16:19:22.193403Z"
    }
   },
   "outputs": [],
   "source": [
    "# In case we want to remove some features\n",
    "\n",
    "#cols.remove('delta_pt_overall_s16')\n",
    "#cols.remove('delta_ftpct')\n",
    "#cols.remove('delta_adjoe')\n",
    "#cols.remove('delta_oppftpct')\n",
    "#cols.remove('delta_blockpct')"
   ]
  },
  {
   "cell_type": "code",
   "execution_count": null,
   "metadata": {
    "ExecuteTime": {
     "end_time": "2020-03-27T16:12:37.382653Z",
     "start_time": "2020-03-27T16:12:37.364712Z"
    }
   },
   "outputs": [],
   "source": [
    "training[cols].head()"
   ]
  },
  {
   "cell_type": "markdown",
   "metadata": {},
   "source": [
    "# Modelling - Logistic Regression"
   ]
  },
  {
   "cell_type": "code",
   "execution_count": 36,
   "metadata": {
    "ExecuteTime": {
     "end_time": "2020-03-27T18:11:19.374386Z",
     "start_time": "2020-03-27T18:11:19.367411Z"
    }
   },
   "outputs": [],
   "source": [
    "# A simple logistic regression for comparison\n",
    "\n",
    "def LogisticRegression_1(X_train, X_test, y_train, y_test):\n",
    "    from sklearn.linear_model import LogisticRegression\n",
    "    #scaler = StandardScaler()\n",
    "    #scaler.fit(X_train.fillna(0))\n",
    "    logit = LogisticRegression()\n",
    "    logit.fit(X_train, y_train)\n",
    "    logit.predict(X_train)\n",
    "    logit.predict(X_test)\n",
    "    print(\"training score:\",logit.score(X_train,y_train))\n",
    "    print(\"testing score:\",logit.score(X_test,y_test))\n",
    "    #print(\"result:\",result(logit.predict(X_train),y_train))\n",
    "    #print(\"MSE:\",mean_squared_error(y_test, logit.predict(X_test)))\n",
    "    print('training log_loss:',log_loss(y_train,logit.predict_proba(X_train)))\n",
    "    print('testing log_loss:',log_loss(y_test,logit.predict_proba(X_test)))\n",
    "    \n",
    "    #mse = mean_squared_error(y_test, logit.predict(X_test))\n",
    "    \n",
    "    return logit.predict(X_test)"
   ]
  },
  {
   "cell_type": "code",
   "execution_count": 37,
   "metadata": {
    "ExecuteTime": {
     "end_time": "2020-03-27T18:11:21.095170Z",
     "start_time": "2020-03-27T18:11:21.073230Z"
    }
   },
   "outputs": [
    {
     "name": "stdout",
     "output_type": "stream",
     "text": [
      "training score: 0.7956120092378753\n",
      "testing score: 0.751269035532995\n",
      "training log_loss: 0.40737541588702564\n",
      "testing log_loss: 0.5168633325327716\n"
     ]
    }
   ],
   "source": [
    "from sklearn.metrics import log_loss, f1_score, accuracy_score\n",
    "\n",
    "logit_result = LogisticRegression_1(training[cols], testing[cols], training['result'], testing['result'])"
   ]
  },
  {
   "cell_type": "code",
   "execution_count": 38,
   "metadata": {
    "ExecuteTime": {
     "end_time": "2020-03-27T18:11:22.063059Z",
     "start_time": "2020-03-27T18:11:22.049097Z"
    }
   },
   "outputs": [],
   "source": [
    "from sklearn.metrics import log_loss, classification_report\n",
    "\n",
    "compare = pd.DataFrame()\n",
    "compare['result'] = testing['result']\n",
    "compare['logit_testing'] = logit_result\n",
    "\n",
    "def suedo_result(row, prediction):\n",
    "        if row[prediction] > 0.50:\n",
    "            return 1\n",
    "        else:\n",
    "            return 0\n",
    "compare['logit_test_result'] = compare.apply(suedo_result, prediction='logit_testing',axis=1)"
   ]
  },
  {
   "cell_type": "code",
   "execution_count": 39,
   "metadata": {
    "ExecuteTime": {
     "end_time": "2020-03-27T18:11:24.861090Z",
     "start_time": "2020-03-27T18:11:24.851109Z"
    }
   },
   "outputs": [
    {
     "name": "stdout",
     "output_type": "stream",
     "text": [
      "Logistic Regression testset Evaluation\n",
      "\n",
      "-------------------\n",
      "\n",
      "0.7512690355329948\n",
      "\n",
      "\n",
      "             precision    recall  f1-score   support\n",
      "\n",
      "          0       0.74      0.76      0.75        97\n",
      "          1       0.76      0.74      0.75       100\n",
      "\n",
      "avg / total       0.75      0.75      0.75       197\n",
      "\n"
     ]
    }
   ],
   "source": [
    "print('Logistic Regression testset Evaluation\\n')\n",
    "print('-------------------\\n')\n",
    "print(f1_score(compare['result'], compare['logit_test_result']))\n",
    "print('\\n')\n",
    "print(classification_report(compare['result'], compare['logit_test_result']))"
   ]
  },
  {
   "cell_type": "code",
   "execution_count": null,
   "metadata": {},
   "outputs": [],
   "source": []
  },
  {
   "cell_type": "markdown",
   "metadata": {},
   "source": [
    "# Modelling - Lightgbm"
   ]
  },
  {
   "cell_type": "code",
   "execution_count": 40,
   "metadata": {
    "ExecuteTime": {
     "end_time": "2020-03-27T18:11:30.686386Z",
     "start_time": "2020-03-27T18:11:30.620034Z"
    }
   },
   "outputs": [],
   "source": [
    "import lightgbm as lgbm\n",
    "import xgboost as xgb\n",
    "from sklearn.model_selection import KFold\n",
    "import gc"
   ]
  },
  {
   "cell_type": "code",
   "execution_count": 41,
   "metadata": {
    "ExecuteTime": {
     "end_time": "2020-03-27T18:11:31.073901Z",
     "start_time": "2020-03-27T18:11:31.068890Z"
    }
   },
   "outputs": [],
   "source": [
    "#Lightgbm parameters\n",
    "\n",
    "lgbm_param = {\n",
    "            'learning_rate': 0.01,\n",
    "            'num_leaves': 127,\n",
    "            'objective': 'binary',\n",
    "            #'subsample': 0.9,\n",
    "            'max_depth': 15,\n",
    "            'feature fraction': 0.6,\n",
    "            \"boosting_type\": \"gbdt\",\n",
    "            \"bagging_seed\": 11,\n",
    "            'min_child_weight': 2,\n",
    "            #'silent': 1,\n",
    "            'verbosity': -1,\n",
    "            'metric': 'binary_logloss'\n",
    "           }\n"
   ]
  },
  {
   "cell_type": "code",
   "execution_count": 46,
   "metadata": {
    "ExecuteTime": {
     "end_time": "2020-03-27T18:15:01.543508Z",
     "start_time": "2020-03-27T18:14:49.810667Z"
    }
   },
   "outputs": [
    {
     "name": "stdout",
     "output_type": "stream",
     "text": [
      "Fold: 1\n",
      "Training until validation scores don't improve for 500 rounds\n",
      "[200]\ttraining's binary_logloss: 0.267301\tvalid_1's binary_logloss: 0.364854\n",
      "[400]\ttraining's binary_logloss: 0.133773\tvalid_1's binary_logloss: 0.336058\n",
      "[600]\ttraining's binary_logloss: 0.079162\tvalid_1's binary_logloss: 0.341701\n",
      "[800]\ttraining's binary_logloss: 0.0566391\tvalid_1's binary_logloss: 0.339906\n",
      "Early stopping, best iteration is:\n",
      "[329]\ttraining's binary_logloss: 0.168236\tvalid_1's binary_logloss: 0.334388\n",
      "Fold: 2\n",
      "Training until validation scores don't improve for 500 rounds\n",
      "[200]\ttraining's binary_logloss: 0.260976\tvalid_1's binary_logloss: 0.399271\n",
      "[400]\ttraining's binary_logloss: 0.12938\tvalid_1's binary_logloss: 0.392758\n",
      "[600]\ttraining's binary_logloss: 0.076601\tvalid_1's binary_logloss: 0.408214\n",
      "[800]\ttraining's binary_logloss: 0.0551096\tvalid_1's binary_logloss: 0.428665\n",
      "Early stopping, best iteration is:\n",
      "[484]\ttraining's binary_logloss: 0.101261\tvalid_1's binary_logloss: 0.388209\n",
      "Fold: 3\n",
      "Training until validation scores don't improve for 500 rounds\n",
      "[200]\ttraining's binary_logloss: 0.255101\tvalid_1's binary_logloss: 0.372453\n",
      "[400]\ttraining's binary_logloss: 0.12802\tvalid_1's binary_logloss: 0.368258\n",
      "[600]\ttraining's binary_logloss: 0.0761929\tvalid_1's binary_logloss: 0.391708\n",
      "Early stopping, best iteration is:\n",
      "[265]\ttraining's binary_logloss: 0.201418\tvalid_1's binary_logloss: 0.350249\n",
      "Fold: 4\n",
      "Training until validation scores don't improve for 500 rounds\n",
      "[200]\ttraining's binary_logloss: 0.256873\tvalid_1's binary_logloss: 0.404094\n",
      "[400]\ttraining's binary_logloss: 0.127011\tvalid_1's binary_logloss: 0.390282\n",
      "[600]\ttraining's binary_logloss: 0.0768904\tvalid_1's binary_logloss: 0.41199\n",
      "[800]\ttraining's binary_logloss: 0.0551966\tvalid_1's binary_logloss: 0.436159\n",
      "Early stopping, best iteration is:\n",
      "[341]\ttraining's binary_logloss: 0.153232\tvalid_1's binary_logloss: 0.385178\n",
      "Fold: 5\n",
      "Training until validation scores don't improve for 500 rounds\n",
      "[200]\ttraining's binary_logloss: 0.259645\tvalid_1's binary_logloss: 0.38843\n",
      "[400]\ttraining's binary_logloss: 0.129907\tvalid_1's binary_logloss: 0.36434\n",
      "[600]\ttraining's binary_logloss: 0.0775013\tvalid_1's binary_logloss: 0.381334\n",
      "[800]\ttraining's binary_logloss: 0.0555004\tvalid_1's binary_logloss: 0.395854\n",
      "Early stopping, best iteration is:\n",
      "[350]\ttraining's binary_logloss: 0.151933\tvalid_1's binary_logloss: 0.363014\n",
      "Fold: 6\n",
      "Training until validation scores don't improve for 500 rounds\n",
      "[200]\ttraining's binary_logloss: 0.251803\tvalid_1's binary_logloss: 0.45233\n",
      "[400]\ttraining's binary_logloss: 0.126688\tvalid_1's binary_logloss: 0.474011\n",
      "[600]\ttraining's binary_logloss: 0.0758638\tvalid_1's binary_logloss: 0.519996\n",
      "Early stopping, best iteration is:\n",
      "[238]\ttraining's binary_logloss: 0.218677\tvalid_1's binary_logloss: 0.450007\n",
      "Fold: 7\n",
      "Training until validation scores don't improve for 500 rounds\n",
      "[200]\ttraining's binary_logloss: 0.256206\tvalid_1's binary_logloss: 0.403224\n",
      "[400]\ttraining's binary_logloss: 0.12699\tvalid_1's binary_logloss: 0.393288\n",
      "[600]\ttraining's binary_logloss: 0.0752661\tvalid_1's binary_logloss: 0.40163\n",
      "[800]\ttraining's binary_logloss: 0.0541369\tvalid_1's binary_logloss: 0.435886\n",
      "Early stopping, best iteration is:\n",
      "[489]\ttraining's binary_logloss: 0.0977764\tvalid_1's binary_logloss: 0.390042\n",
      "Fold: 8\n",
      "Training until validation scores don't improve for 500 rounds\n",
      "[200]\ttraining's binary_logloss: 0.258883\tvalid_1's binary_logloss: 0.367006\n",
      "[400]\ttraining's binary_logloss: 0.129119\tvalid_1's binary_logloss: 0.358606\n",
      "[600]\ttraining's binary_logloss: 0.0776497\tvalid_1's binary_logloss: 0.391386\n",
      "Early stopping, best iteration is:\n",
      "[292]\ttraining's binary_logloss: 0.184813\tvalid_1's binary_logloss: 0.350342\n",
      "Fold: 9\n",
      "Training until validation scores don't improve for 500 rounds\n",
      "[200]\ttraining's binary_logloss: 0.251484\tvalid_1's binary_logloss: 0.531367\n",
      "[400]\ttraining's binary_logloss: 0.123467\tvalid_1's binary_logloss: 0.563098\n",
      "[600]\ttraining's binary_logloss: 0.0740865\tvalid_1's binary_logloss: 0.627898\n",
      "Early stopping, best iteration is:\n",
      "[260]\ttraining's binary_logloss: 0.200588\tvalid_1's binary_logloss: 0.52756\n",
      "Fold: 10\n",
      "Training until validation scores don't improve for 500 rounds\n",
      "[200]\ttraining's binary_logloss: 0.257515\tvalid_1's binary_logloss: 0.425923\n",
      "[400]\ttraining's binary_logloss: 0.128599\tvalid_1's binary_logloss: 0.429788\n",
      "[600]\ttraining's binary_logloss: 0.076693\tvalid_1's binary_logloss: 0.450008\n",
      "Early stopping, best iteration is:\n",
      "[279]\ttraining's binary_logloss: 0.193141\tvalid_1's binary_logloss: 0.41931\n"
     ]
    }
   ],
   "source": [
    "#lightgbm probability\n",
    "\n",
    "#Xtrain = X_train[cols].values.astype(np.float32, copy=False)\n",
    "#d_train = lgbm.Dataset(X_train[cols], label=y_train)\n",
    "\n",
    "NFOLDS = 10\n",
    "folds = KFold(n_splits=NFOLDS)\n",
    "\n",
    "splits = folds.split(training[cols], training['result'])\n",
    "\n",
    "y_preds_lgbm = np.zeros(testing[cols].shape[0])\n",
    "final_preds_lgbm = np.zeros(prediction[cols].shape[0])\n",
    "y_oof_lgbm = np.zeros(training[cols].shape[0])\n",
    "  \n",
    "for fold_n, (train_index, valid_index) in enumerate(splits):\n",
    "    print('Fold:',fold_n+1)\n",
    "    X_train, X_valid = X[cols].iloc[train_index], X[cols].iloc[valid_index]\n",
    "    y_train, y_valid = y.iloc[train_index], y.iloc[valid_index]\n",
    "    \n",
    "    dtrain = lgbm.Dataset(X_train, y_train)\n",
    "    dvalid = lgbm.Dataset(X_valid, y_valid)\n",
    "    #test_set = lgbm.Dataset(training[cols])\n",
    "    #pred_set = xgb.Dmatrix(testing[cols])\n",
    "    \n",
    "    lgbm_clf  = lgbm.train(lgbm_param, dtrain, 5000, valid_sets = [dtrain, dvalid], \n",
    "                           verbose_eval=200, early_stopping_rounds=500)\n",
    "    \n",
    "    y_pred_valid = lgbm_clf.predict(X_valid)\n",
    "    y_oof_lgbm[valid_index] = y_pred_valid\n",
    "    \n",
    "    y_preds_lgbm += lgbm_clf.predict(testing[cols], num_iteration=lgbm_clf.best_iteration) / NFOLDS\n",
    "    final_preds_lgbm += lgbm_clf.predict(prediction[cols], num_iteration=lgbm_clf.best_iteration) / NFOLDS\n",
    "    del X_train, X_valid, y_train, y_valid\n",
    "    gc.collect()\n"
   ]
  },
  {
   "cell_type": "code",
   "execution_count": 48,
   "metadata": {
    "ExecuteTime": {
     "end_time": "2020-03-27T18:15:36.021654Z",
     "start_time": "2020-03-27T18:15:36.009686Z"
    }
   },
   "outputs": [],
   "source": [
    "#compare = pd.DataFrame()\n",
    "#compare['result'] = testing['result']\n",
    "compare['lgbm_testing'] = y_preds_lgbm\n",
    "\n",
    "def suedo_result(row, prediction):\n",
    "        if row[prediction] > 0.50:\n",
    "            return 1\n",
    "        else:\n",
    "            return 0\n",
    "compare['lgbm_test_result'] = compare.apply(suedo_result, prediction='lgbm_testing',axis=1)"
   ]
  },
  {
   "cell_type": "code",
   "execution_count": 49,
   "metadata": {
    "ExecuteTime": {
     "end_time": "2020-03-27T18:15:37.828483Z",
     "start_time": "2020-03-27T18:15:37.818490Z"
    }
   },
   "outputs": [
    {
     "name": "stdout",
     "output_type": "stream",
     "text": [
      "Lightgbm testset Evaluation\n",
      "\n",
      "-------------------\n",
      "\n",
      "Logloss:  0.44332474099919683\n",
      "\n",
      "\n",
      "             precision    recall  f1-score   support\n",
      "\n",
      "          0       0.80      0.77      0.79        97\n",
      "          1       0.79      0.81      0.80       100\n",
      "\n",
      "avg / total       0.79      0.79      0.79       197\n",
      "\n"
     ]
    }
   ],
   "source": [
    "#lightgbm evalution\n",
    "print('Lightgbm testset Evaluation\\n')\n",
    "print('-------------------\\n')\n",
    "print('Logloss: ', log_loss(compare['result'], y_preds_lgbm))\n",
    "print('\\n')\n",
    "print(classification_report(compare['result'], compare['lgbm_test_result']))\n"
   ]
  },
  {
   "cell_type": "code",
   "execution_count": 50,
   "metadata": {
    "ExecuteTime": {
     "end_time": "2020-03-27T18:15:48.983581Z",
     "start_time": "2020-03-27T18:15:48.581657Z"
    }
   },
   "outputs": [
    {
     "data": {
      "text/plain": [
       "Text(0.5, 1.0, 'LightGBM - Feature Importance')"
      ]
     },
     "execution_count": 50,
     "metadata": {},
     "output_type": "execute_result"
    },
    {
     "data": {
      "image/png": "[encoded data removed]",
      "text/plain": [
       "<Figure size 720x504 with 1 Axes>"
      ]
     },
     "metadata": {},
     "output_type": "display_data"
    }
   ],
   "source": [
    "fig, ax = plt.subplots(figsize=(10, 7))\n",
    "lgbm.plot_importance(lgbm_clf, max_num_features=30, ax=ax)\n",
    "plt.title(\"LightGBM - Feature Importance\")"
   ]
  },
  {
   "cell_type": "code",
   "execution_count": null,
   "metadata": {
    "ExecuteTime": {
     "end_time": "2020-03-25T18:16:38.755627Z",
     "start_time": "2020-03-25T18:16:38.750641Z"
    }
   },
   "outputs": [],
   "source": [
    "#np.round(y_preds_lgbm,3)"
   ]
  },
  {
   "cell_type": "code",
   "execution_count": 51,
   "metadata": {
    "ExecuteTime": {
     "end_time": "2020-03-27T18:17:06.162614Z",
     "start_time": "2020-03-27T18:17:05.526301Z"
    }
   },
   "outputs": [
    {
     "name": "stdout",
     "output_type": "stream",
     "text": [
      "Training until validation scores don't improve for 500 rounds\n",
      "[500]\ttraining's l2: 0.0366801\tvalid_1's l2: 0.156385\n",
      "Early stopping, best iteration is:\n",
      "[177]\ttraining's l2: 0.0746646\tvalid_1's l2: 0.150308\n"
     ]
    }
   ],
   "source": [
    "#lightgbm regressor with cv\n",
    "\n",
    "from lightgbm import LGBMClassifier, LGBMRegressor\n",
    "from sklearn.metrics import roc_auc_score, precision_recall_curve, roc_curve, average_precision_score\n",
    "\n",
    "target = training['result']\n",
    "sub_preds = np.zeros(training[cols].shape[0])\n",
    "\n",
    "trn_x, val_x, trn_y, val_y = train_test_split(training[cols], target, test_size=0.2, random_state=101) \n",
    "feature_importance_df = pd.DataFrame() \n",
    "    \n",
    "lgbm_reg = LGBMRegressor(\n",
    "        n_estimators= 5000,\n",
    "        learning_rate=0.01,\n",
    "        num_leaves=127,\n",
    "        objective = 'regression',\n",
    "        #colsample_bytree=.9,\n",
    "        subsample=.9,\n",
    "        max_depth=7,\n",
    "        reg_alpha=.1,\n",
    "        reg_lambda=.1,\n",
    "        min_split_gain=.01,\n",
    "        min_child_weight=2,\n",
    "        #silent=-1,\n",
    "        #verbose=-1,\n",
    "        \n",
    "        )\n",
    "        \n",
    "lgbm_reg.fit(trn_x, trn_y, \n",
    "        eval_set= [(trn_x, trn_y), (val_x, val_y)], \n",
    "        eval_metric='logloss', verbose=500, early_stopping_rounds=500  #30\n",
    "    )\n",
    "\n",
    "sub_preds = lgbm_reg.predict(testing[cols], num_iteration = lgbm_reg.best_iteration_)\n",
    "final_preds_lgbm_reg = lgbm_reg.predict(prediction[cols], num_iteration = lgbm_reg.best_iteration_)\n",
    "\n",
    "fold_importance_df = pd.DataFrame()\n",
    "fold_importance_df[\"feature\"] = cols\n",
    "fold_importance_df[\"importance\"] = lgbm_reg.feature_importances_\n",
    "feature_importance_df = pd.concat([feature_importance_df, fold_importance_df], axis=0)"
   ]
  },
  {
   "cell_type": "code",
   "execution_count": 52,
   "metadata": {
    "ExecuteTime": {
     "end_time": "2020-03-27T18:17:10.674131Z",
     "start_time": "2020-03-27T18:17:10.668128Z"
    }
   },
   "outputs": [
    {
     "data": {
      "text/plain": [
       "defaultdict(collections.OrderedDict,\n",
       "            {'training': OrderedDict([('l2', 0.07466461417488521)]),\n",
       "             'valid_1': OrderedDict([('l2', 0.15030759526094115)])})"
      ]
     },
     "execution_count": 52,
     "metadata": {},
     "output_type": "execute_result"
    }
   ],
   "source": [
    "lgbm_reg.best_score_"
   ]
  },
  {
   "cell_type": "code",
   "execution_count": 53,
   "metadata": {
    "ExecuteTime": {
     "end_time": "2020-03-27T18:17:14.285674Z",
     "start_time": "2020-03-27T18:17:13.776410Z"
    }
   },
   "outputs": [
    {
     "data": {
      "image/png": "[encoded data removed]",
      "text/plain": [
       "<Figure size 1008x720 with 1 Axes>"
      ]
     },
     "metadata": {},
     "output_type": "display_data"
    }
   ],
   "source": [
    "col = feature_importance_df[[\"feature\", \"importance\"]].groupby(\"feature\").mean().sort_values(\n",
    "    by=\"importance\", ascending=False)[:50].index\n",
    "\n",
    "best_features = feature_importance_df.loc[feature_importance_df.feature.isin(col)]\n",
    "\n",
    "plt.figure(figsize=(14,10))\n",
    "sns.barplot(x=\"importance\", y=\"feature\", data=best_features.sort_values(by=\"importance\", ascending=False))\n",
    "plt.title('LightGBM Features (avg over folds)')\n",
    "plt.tight_layout()\n",
    "#plt.savefig('lgbm_importances.png')"
   ]
  },
  {
   "cell_type": "code",
   "execution_count": 54,
   "metadata": {
    "ExecuteTime": {
     "end_time": "2020-03-27T18:17:17.390747Z",
     "start_time": "2020-03-27T18:17:17.377787Z"
    }
   },
   "outputs": [],
   "source": [
    "compare['lgbm_reg_testing'] = sub_preds\n",
    "compare['lgbm_test_result_2'] = compare.apply(suedo_result, prediction='lgbm_reg_testing',axis=1)"
   ]
  },
  {
   "cell_type": "code",
   "execution_count": 55,
   "metadata": {
    "ExecuteTime": {
     "end_time": "2020-03-27T18:17:18.308304Z",
     "start_time": "2020-03-27T18:17:18.299329Z"
    }
   },
   "outputs": [
    {
     "name": "stdout",
     "output_type": "stream",
     "text": [
      "Lightgbm Regressor testset Evaluation\n",
      "\n",
      "-------------------\n",
      "\n",
      "Logloss:  0.44231711666538626\n",
      "\n",
      "\n",
      "             precision    recall  f1-score   support\n",
      "\n",
      "          0       0.81      0.76      0.79        97\n",
      "          1       0.78      0.83      0.81       100\n",
      "\n",
      "avg / total       0.80      0.80      0.80       197\n",
      "\n"
     ]
    }
   ],
   "source": [
    "#Lightgbm evaluation\n",
    "print('Lightgbm Regressor testset Evaluation\\n')\n",
    "print('-------------------\\n')\n",
    "print('Logloss: ', log_loss(compare['result'], sub_preds))\n",
    "print('\\n')\n",
    "print(classification_report(compare['result'], compare['lgbm_test_result_2']))"
   ]
  },
  {
   "cell_type": "code",
   "execution_count": null,
   "metadata": {
    "ExecuteTime": {
     "end_time": "2020-03-25T17:40:27.310336Z",
     "start_time": "2020-03-25T17:40:27.304350Z"
    }
   },
   "outputs": [],
   "source": []
  },
  {
   "cell_type": "markdown",
   "metadata": {},
   "source": [
    "# Modelling - XGboost"
   ]
  },
  {
   "cell_type": "code",
   "execution_count": 56,
   "metadata": {
    "ExecuteTime": {
     "end_time": "2020-03-27T18:17:26.782001Z",
     "start_time": "2020-03-27T18:17:26.777014Z"
    }
   },
   "outputs": [],
   "source": [
    "# A simplt xgboost to have a try\n",
    "\n",
    "params_xgb = {'colsample_bytree': 0.8,                 \n",
    "              'learning_rate': 0.01,\n",
    "              'max_depth': 31,\n",
    "              'subsample': 1,\n",
    "              'objective':'binary:logistic',\n",
    "              'eval_metric':'logloss',\n",
    "              'min_child_weight':3,\n",
    "              'gamma': 0.25,\n",
    "              'n_estimators': 5000,\n",
    "              'verbosity': 0,\n",
    "              'eval_metric': 'logloss' \n",
    "             }\n"
   ]
  },
  {
   "cell_type": "code",
   "execution_count": 59,
   "metadata": {
    "ExecuteTime": {
     "end_time": "2020-03-27T18:21:14.245655Z",
     "start_time": "2020-03-27T18:20:38.634299Z"
    }
   },
   "outputs": [
    {
     "name": "stdout",
     "output_type": "stream",
     "text": [
      "Fold: 1\n",
      "[0]\ttrain-logloss:0.688373\tval-logloss:0.689082\n",
      "Multiple eval metrics have been passed: 'val-logloss' will be used for early stopping.\n",
      "\n",
      "Will train until val-logloss hasn't improved in 500 rounds.\n",
      "[500]\ttrain-logloss:0.13383\tval-logloss:0.340275\n",
      "Stopping. Best iteration:\n",
      "[430]\ttrain-logloss:0.15075\tval-logloss:0.339034\n",
      "\n",
      "Fold: 2\n",
      "[0]\ttrain-logloss:0.687953\tval-logloss:0.689759\n",
      "Multiple eval metrics have been passed: 'val-logloss' will be used for early stopping.\n",
      "\n",
      "Will train until val-logloss hasn't improved in 500 rounds.\n",
      "[500]\ttrain-logloss:0.131486\tval-logloss:0.388638\n",
      "Stopping. Best iteration:\n",
      "[394]\ttrain-logloss:0.160403\tval-logloss:0.381794\n",
      "\n",
      "Fold: 3\n",
      "[0]\ttrain-logloss:0.687835\tval-logloss:0.689228\n",
      "Multiple eval metrics have been passed: 'val-logloss' will be used for early stopping.\n",
      "\n",
      "Will train until val-logloss hasn't improved in 500 rounds.\n",
      "[500]\ttrain-logloss:0.130683\tval-logloss:0.382881\n",
      "Stopping. Best iteration:\n",
      "[368]\ttrain-logloss:0.16752\tval-logloss:0.375901\n",
      "\n",
      "Fold: 4\n",
      "[0]\ttrain-logloss:0.688154\tval-logloss:0.688542\n",
      "Multiple eval metrics have been passed: 'val-logloss' will be used for early stopping.\n",
      "\n",
      "Will train until val-logloss hasn't improved in 500 rounds.\n",
      "[500]\ttrain-logloss:0.130816\tval-logloss:0.384197\n",
      "Stopping. Best iteration:\n",
      "[348]\ttrain-logloss:0.176289\tval-logloss:0.369816\n",
      "\n",
      "Fold: 5\n",
      "[0]\ttrain-logloss:0.687988\tval-logloss:0.689142\n",
      "Multiple eval metrics have been passed: 'val-logloss' will be used for early stopping.\n",
      "\n",
      "Will train until val-logloss hasn't improved in 500 rounds.\n",
      "[500]\ttrain-logloss:0.130797\tval-logloss:0.369222\n",
      "[1000]\ttrain-logloss:0.073353\tval-logloss:0.38216\n",
      "Stopping. Best iteration:\n",
      "[574]\ttrain-logloss:0.116886\tval-logloss:0.368242\n",
      "\n",
      "Fold: 6\n",
      "[0]\ttrain-logloss:0.68815\tval-logloss:0.689245\n",
      "Multiple eval metrics have been passed: 'val-logloss' will be used for early stopping.\n",
      "\n",
      "Will train until val-logloss hasn't improved in 500 rounds.\n",
      "[500]\ttrain-logloss:0.127106\tval-logloss:0.489684\n",
      "Stopping. Best iteration:\n",
      "[283]\ttrain-logloss:0.20046\tval-logloss:0.464303\n",
      "\n",
      "Fold: 7\n",
      "[0]\ttrain-logloss:0.688038\tval-logloss:0.690455\n",
      "Multiple eval metrics have been passed: 'val-logloss' will be used for early stopping.\n",
      "\n",
      "Will train until val-logloss hasn't improved in 500 rounds.\n",
      "[500]\ttrain-logloss:0.129802\tval-logloss:0.42346\n",
      "Stopping. Best iteration:\n",
      "[423]\ttrain-logloss:0.148421\tval-logloss:0.416886\n",
      "\n",
      "Fold: 8\n",
      "[0]\ttrain-logloss:0.688015\tval-logloss:0.689239\n",
      "Multiple eval metrics have been passed: 'val-logloss' will be used for early stopping.\n",
      "\n",
      "Will train until val-logloss hasn't improved in 500 rounds.\n",
      "[500]\ttrain-logloss:0.132132\tval-logloss:0.367426\n",
      "Stopping. Best iteration:\n",
      "[330]\ttrain-logloss:0.184717\tval-logloss:0.360666\n",
      "\n",
      "Fold: 9\n",
      "[0]\ttrain-logloss:0.68795\tval-logloss:0.68938\n",
      "Multiple eval metrics have been passed: 'val-logloss' will be used for early stopping.\n",
      "\n",
      "Will train until val-logloss hasn't improved in 500 rounds.\n",
      "[500]\ttrain-logloss:0.12625\tval-logloss:0.579189\n",
      "Stopping. Best iteration:\n",
      "[206]\ttrain-logloss:0.246839\tval-logloss:0.522085\n",
      "\n",
      "Fold: 10\n",
      "[0]\ttrain-logloss:0.688033\tval-logloss:0.689344\n",
      "Multiple eval metrics have been passed: 'val-logloss' will be used for early stopping.\n",
      "\n",
      "Will train until val-logloss hasn't improved in 500 rounds.\n",
      "[500]\ttrain-logloss:0.132564\tval-logloss:0.413779\n",
      "Stopping. Best iteration:\n",
      "[309]\ttrain-logloss:0.19412\tval-logloss:0.40858\n",
      "\n"
     ]
    }
   ],
   "source": [
    "#xgboost\n",
    "NFOLDS = 10\n",
    "folds = KFold(n_splits=NFOLDS)\n",
    "\n",
    "splits = folds.split(training[cols], training['result'])\n",
    "\n",
    "y_preds_xgb = np.zeros(testing[cols].shape[0])\n",
    "final_preds_xgb = np.zeros(prediction[cols].shape[0])\n",
    "y_oof_xgb = np.zeros(training[cols].shape[0])\n",
    "  \n",
    "for fold_n, (train_index, valid_index) in enumerate(splits):\n",
    "    print('Fold:',fold_n+1)\n",
    "    X_train, X_valid = X[cols].iloc[train_index], X[cols].iloc[valid_index]\n",
    "    y_train, y_valid = y.iloc[train_index], y.iloc[valid_index]\n",
    "    \n",
    "    train_set = xgb.DMatrix(X_train, y_train)\n",
    "    val_set = xgb.DMatrix(X_valid, y_valid)\n",
    "    test_set = xgb.DMatrix(testing[cols])\n",
    "    pred_set = xgb.DMatrix(prediction[cols])\n",
    "    \n",
    "    xgb_clf = xgb.train(params_xgb, train_set,num_boost_round=5000, evals=[(train_set, 'train'), (val_set, 'val')], early_stopping_rounds= 500, verbose_eval=500)\n",
    "    \n",
    "    y_preds_xgb += xgb_clf.predict(test_set, ntree_limit= xgb_clf.best_iteration) / NFOLDS\n",
    "    final_preds_xgb += xgb_clf.predict(pred_set, ntree_limit = xgb_clf.best_iteration) / NFOLDS\n",
    "    del X_train, X_valid, y_train, y_valid\n",
    "    gc.collect()\n"
   ]
  },
  {
   "cell_type": "code",
   "execution_count": null,
   "metadata": {
    "ExecuteTime": {
     "end_time": "2020-03-27T00:52:06.217138Z",
     "start_time": "2020-03-27T00:52:06.211134Z"
    }
   },
   "outputs": [],
   "source": [
    "# Log loss function\n",
    "\n",
    "def log_loss_cond(actual, predict_prob):\n",
    "    log_loss = 0\n",
    "    for i in actual:\n",
    "        if i == 1:  \n",
    "        # use natural logarithm\n",
    "            log_loss += -np.log(actual[i]*predict_prob[i]) \n",
    "        else:\n",
    "            log_loss += -np.log(1 - predict_prob[i])\n",
    "    return log_loss/len(actual)"
   ]
  },
  {
   "cell_type": "code",
   "execution_count": null,
   "metadata": {
    "ExecuteTime": {
     "end_time": "2020-03-27T00:52:24.057947Z",
     "start_time": "2020-03-27T00:52:24.046977Z"
    }
   },
   "outputs": [],
   "source": []
  },
  {
   "cell_type": "code",
   "execution_count": 60,
   "metadata": {
    "ExecuteTime": {
     "end_time": "2020-03-27T18:21:17.722556Z",
     "start_time": "2020-03-27T18:21:17.707585Z"
    }
   },
   "outputs": [],
   "source": [
    "compare['xgb_testing'] = y_preds_xgb\n",
    "compare['xgb_test_result'] = compare.apply(suedo_result, prediction='xgb_testing',axis=1)\n"
   ]
  },
  {
   "cell_type": "code",
   "execution_count": 61,
   "metadata": {
    "ExecuteTime": {
     "end_time": "2020-03-27T18:21:20.426517Z",
     "start_time": "2020-03-27T18:21:20.418519Z"
    }
   },
   "outputs": [
    {
     "name": "stdout",
     "output_type": "stream",
     "text": [
      "XGBoost testset Evaluation\n",
      "\n",
      "-------------------\n",
      "\n",
      "Logloss:  0.4421999161617198\n",
      "\n",
      "\n",
      "             precision    recall  f1-score   support\n",
      "\n",
      "          0       0.83      0.75      0.79        97\n",
      "          1       0.78      0.85      0.81       100\n",
      "\n",
      "avg / total       0.80      0.80      0.80       197\n",
      "\n"
     ]
    }
   ],
   "source": [
    "#xgboost evaluation\n",
    "\n",
    "print('XGBoost testset Evaluation\\n')\n",
    "print('-------------------\\n')\n",
    "print('Logloss: ', log_loss(compare['result'], compare['xgb_testing']))\n",
    "print('\\n')\n",
    "print(classification_report(compare['result'], compare['xgb_test_result']))\n"
   ]
  },
  {
   "cell_type": "code",
   "execution_count": 62,
   "metadata": {
    "ExecuteTime": {
     "end_time": "2020-03-27T18:21:24.939784Z",
     "start_time": "2020-03-27T18:21:24.933779Z"
    }
   },
   "outputs": [],
   "source": [
    "from sklearn.metrics import f1_score\n",
    "\n",
    "def ensemble(a,b):\n",
    "    \n",
    "    compare['ensemble_testing'] = b * compare['xgb_testing'] + a * compare['lgbm_testing']\n",
    "    compare['ensemble_result'] = compare.apply(suedo_result, prediction='ensemble_testing',axis=1)\n",
    "    return log_loss(compare['result'], compare['ensemble_testing']), f1_score(compare['result'], compare['ensemble_result'])\n",
    "    "
   ]
  },
  {
   "cell_type": "code",
   "execution_count": 65,
   "metadata": {
    "ExecuteTime": {
     "end_time": "2020-03-27T18:21:38.187558Z",
     "start_time": "2020-03-27T18:21:38.164607Z"
    }
   },
   "outputs": [
    {
     "name": "stdout",
     "output_type": "stream",
     "text": [
      "(0.4415859153245205, 0.803921568627451)\n",
      "(0.44152732183122545, 0.8097560975609757)\n"
     ]
    }
   ],
   "source": [
    "\n",
    "print(ensemble(0.5,0.5))\n",
    "print(ensemble(0.3,0.7))"
   ]
  },
  {
   "cell_type": "code",
   "execution_count": null,
   "metadata": {
    "ExecuteTime": {
     "end_time": "2020-03-27T01:48:53.414306Z",
     "start_time": "2020-03-27T01:48:53.404323Z"
    }
   },
   "outputs": [],
   "source": [
    "compare['ensemble_testing'].sort_values(ascending=False)"
   ]
  },
  {
   "cell_type": "code",
   "execution_count": null,
   "metadata": {
    "ExecuteTime": {
     "end_time": "2020-03-27T01:48:58.799267Z",
     "start_time": "2020-03-27T01:48:58.791270Z"
    }
   },
   "outputs": [],
   "source": [
    "compare['logit_testing'].sort_values(ascending=False)"
   ]
  },
  {
   "cell_type": "code",
   "execution_count": null,
   "metadata": {
    "ExecuteTime": {
     "end_time": "2020-03-27T01:49:01.927656Z",
     "start_time": "2020-03-27T01:49:01.919675Z"
    }
   },
   "outputs": [],
   "source": [
    "compare['lgbm_testing'].sort_values(ascending=False)"
   ]
  },
  {
   "cell_type": "code",
   "execution_count": null,
   "metadata": {
    "ExecuteTime": {
     "end_time": "2020-03-27T01:49:04.642122Z",
     "start_time": "2020-03-27T01:49:04.633125Z"
    }
   },
   "outputs": [],
   "source": [
    "compare['xgb_testing'].sort_values(ascending=False)"
   ]
  },
  {
   "cell_type": "code",
   "execution_count": null,
   "metadata": {
    "ExecuteTime": {
     "end_time": "2020-02-28T15:36:56.939728Z",
     "start_time": "2020-02-28T15:36:52.920461Z"
    }
   },
   "outputs": [],
   "source": [
    "# swithc back game_id for submission\n",
    "\n",
    "def game_id_1(row):\n",
    "    cond1 = ((row['team1_id'] == tourney['team1_id']) & (row['team2_id'] == tourney['team2_id'])) & (row['Season'] == tourney['season'])                 \n",
    "    cond2 =  ((row['team2_id'] == tourney['team1_id']) & (row['team1_id'] == tourney['team2_id'])) & (row['Season'] == tourney['season'])      \n",
    "    if row['result'] == 1:    \n",
    "        return tourney[cond1]['game_id'].values\n",
    "    else:\n",
    "        return tourney[cond2]['game_id'].values\n",
    "\n",
    "training['game_id'] = training.apply(game_id_1, axis=1)\n"
   ]
  },
  {
   "cell_type": "code",
   "execution_count": null,
   "metadata": {
    "ExecuteTime": {
     "end_time": "2020-02-28T15:36:56.951678Z",
     "start_time": "2020-02-28T15:36:56.940706Z"
    }
   },
   "outputs": [],
   "source": [
    "training['game_id'] = training['game_id'].str.get(0)\n",
    "training['game_id'].isnull().value_counts()"
   ]
  },
  {
   "cell_type": "code",
   "execution_count": null,
   "metadata": {
    "ExecuteTime": {
     "end_time": "2020-02-28T15:36:59.099929Z",
     "start_time": "2020-02-28T15:36:59.081977Z"
    }
   },
   "outputs": [],
   "source": [
    "training[['team1_id','team2_id','game_id','result']]"
   ]
  },
  {
   "cell_type": "code",
   "execution_count": null,
   "metadata": {
    "ExecuteTime": {
     "end_time": "2020-02-28T15:37:02.032086Z",
     "start_time": "2020-02-28T15:37:02.025102Z"
    }
   },
   "outputs": [],
   "source": [
    "training['prediction']"
   ]
  },
  {
   "cell_type": "code",
   "execution_count": null,
   "metadata": {
    "ExecuteTime": {
     "end_time": "2020-02-28T15:37:07.656058Z",
     "start_time": "2020-02-28T15:37:07.624125Z"
    }
   },
   "outputs": [],
   "source": [
    "# create game_id\n",
    "submission = pd.DataFrame()\n",
    "\n",
    "def prob(row):\n",
    "    if row['result'] == 0:\n",
    "        return (1-row['prediction'])\n",
    "    else:\n",
    "        return row['prediction']\n",
    "\n",
    "submission['id'] = training['game_id']\n",
    "submission['probability'] = training.apply(prob, axis=1)"
   ]
  },
  {
   "cell_type": "code",
   "execution_count": null,
   "metadata": {
    "ExecuteTime": {
     "end_time": "2020-02-28T15:37:08.221527Z",
     "start_time": "2020-02-28T15:37:08.212550Z"
    }
   },
   "outputs": [],
   "source": [
    "submission.head()"
   ]
  },
  {
   "cell_type": "markdown",
   "metadata": {},
   "source": [
    "# Interesting Results"
   ]
  },
  {
   "cell_type": "code",
   "execution_count": 71,
   "metadata": {
    "ExecuteTime": {
     "end_time": "2020-03-27T18:30:37.075427Z",
     "start_time": "2020-03-27T18:30:37.025560Z"
    }
   },
   "outputs": [],
   "source": [
    "jumpman = pd.DataFrame()\n",
    "final = pd.read_csv('NCAA_Tourney_2020.csv')"
   ]
  },
  {
   "cell_type": "code",
   "execution_count": 72,
   "metadata": {
    "ExecuteTime": {
     "end_time": "2020-03-27T18:30:41.166899Z",
     "start_time": "2020-03-27T18:30:41.159918Z"
    }
   },
   "outputs": [],
   "source": [
    "final['result'] = 0.7 * final_preds_xgb + 0.3 * final_preds_lgbm_reg\n"
   ]
  },
  {
   "cell_type": "code",
   "execution_count": 73,
   "metadata": {
    "ExecuteTime": {
     "end_time": "2020-03-27T18:30:49.207447Z",
     "start_time": "2020-03-27T18:30:49.181516Z"
    }
   },
   "outputs": [
    {
     "data": {
      "text/html": [
       "<div>\n",
       "<style scoped>\n",
       "    .dataframe tbody tr th:only-of-type {\n",
       "        vertical-align: middle;\n",
       "    }\n",
       "\n",
       "    .dataframe tbody tr th {\n",
       "        vertical-align: top;\n",
       "    }\n",
       "\n",
       "    .dataframe thead th {\n",
       "        text-align: right;\n",
       "    }\n",
       "</style>\n",
       "<table border=\"1\" class=\"dataframe\">\n",
       "  <thead>\n",
       "    <tr style=\"text-align: right;\">\n",
       "      <th></th>\n",
       "      <th>game_id</th>\n",
       "      <th>team1_id</th>\n",
       "      <th>team2_id</th>\n",
       "      <th>season</th>\n",
       "      <th>team1_seed</th>\n",
       "      <th>team2_seed</th>\n",
       "      <th>team1_position</th>\n",
       "      <th>team2_position</th>\n",
       "      <th>strongseed</th>\n",
       "      <th>weakseed</th>\n",
       "      <th>...</th>\n",
       "      <th>team2_ap_final</th>\n",
       "      <th>team1_f3grate.1</th>\n",
       "      <th>team1_oppf3grate.1</th>\n",
       "      <th>team2_f3grate.1</th>\n",
       "      <th>team2_oppf3grate.1</th>\n",
       "      <th>team1_f3grate.2</th>\n",
       "      <th>team1_oppf3grate.2</th>\n",
       "      <th>team2_f3grate.2</th>\n",
       "      <th>team2_oppf3grate.2</th>\n",
       "      <th>result</th>\n",
       "    </tr>\n",
       "  </thead>\n",
       "  <tbody>\n",
       "    <tr>\n",
       "      <th>0</th>\n",
       "      <td>2020-1124-1257</td>\n",
       "      <td>1124</td>\n",
       "      <td>1257</td>\n",
       "      <td>2020</td>\n",
       "      <td>1</td>\n",
       "      <td>2</td>\n",
       "      <td>W01</td>\n",
       "      <td>W02</td>\n",
       "      <td>1</td>\n",
       "      <td>2</td>\n",
       "      <td>...</td>\n",
       "      <td>15.0</td>\n",
       "      <td>36.895388</td>\n",
       "      <td>34.981459</td>\n",
       "      <td>37.996642</td>\n",
       "      <td>41.027088</td>\n",
       "      <td>36.895388</td>\n",
       "      <td>34.981459</td>\n",
       "      <td>37.996642</td>\n",
       "      <td>41.027088</td>\n",
       "      <td>0.474494</td>\n",
       "    </tr>\n",
       "    <tr>\n",
       "      <th>1</th>\n",
       "      <td>2020-1124-1371</td>\n",
       "      <td>1124</td>\n",
       "      <td>1371</td>\n",
       "      <td>2020</td>\n",
       "      <td>1</td>\n",
       "      <td>3</td>\n",
       "      <td>W01</td>\n",
       "      <td>W03</td>\n",
       "      <td>1</td>\n",
       "      <td>3</td>\n",
       "      <td>...</td>\n",
       "      <td>16.0</td>\n",
       "      <td>36.895388</td>\n",
       "      <td>34.981459</td>\n",
       "      <td>40.535918</td>\n",
       "      <td>34.490482</td>\n",
       "      <td>36.895388</td>\n",
       "      <td>34.981459</td>\n",
       "      <td>40.535918</td>\n",
       "      <td>34.490482</td>\n",
       "      <td>0.729602</td>\n",
       "    </tr>\n",
       "    <tr>\n",
       "      <th>2</th>\n",
       "      <td>2020-1124-1120</td>\n",
       "      <td>1124</td>\n",
       "      <td>1120</td>\n",
       "      <td>2020</td>\n",
       "      <td>1</td>\n",
       "      <td>4</td>\n",
       "      <td>W01</td>\n",
       "      <td>W04</td>\n",
       "      <td>1</td>\n",
       "      <td>4</td>\n",
       "      <td>...</td>\n",
       "      <td>20.0</td>\n",
       "      <td>36.895388</td>\n",
       "      <td>34.981459</td>\n",
       "      <td>44.111349</td>\n",
       "      <td>36.250000</td>\n",
       "      <td>36.895388</td>\n",
       "      <td>34.981459</td>\n",
       "      <td>44.111349</td>\n",
       "      <td>36.250000</td>\n",
       "      <td>0.654718</td>\n",
       "    </tr>\n",
       "    <tr>\n",
       "      <th>3</th>\n",
       "      <td>2020-1124-1228</td>\n",
       "      <td>1124</td>\n",
       "      <td>1228</td>\n",
       "      <td>2020</td>\n",
       "      <td>1</td>\n",
       "      <td>5</td>\n",
       "      <td>W01</td>\n",
       "      <td>W05</td>\n",
       "      <td>1</td>\n",
       "      <td>5</td>\n",
       "      <td>...</td>\n",
       "      <td>21.0</td>\n",
       "      <td>36.895388</td>\n",
       "      <td>34.981459</td>\n",
       "      <td>30.599548</td>\n",
       "      <td>32.481545</td>\n",
       "      <td>36.895388</td>\n",
       "      <td>34.981459</td>\n",
       "      <td>30.599548</td>\n",
       "      <td>32.481545</td>\n",
       "      <td>0.940996</td>\n",
       "    </tr>\n",
       "    <tr>\n",
       "      <th>4</th>\n",
       "      <td>2020-1124-1234</td>\n",
       "      <td>1124</td>\n",
       "      <td>1234</td>\n",
       "      <td>2020</td>\n",
       "      <td>1</td>\n",
       "      <td>6</td>\n",
       "      <td>W01</td>\n",
       "      <td>W06</td>\n",
       "      <td>1</td>\n",
       "      <td>6</td>\n",
       "      <td>...</td>\n",
       "      <td>NaN</td>\n",
       "      <td>36.895388</td>\n",
       "      <td>34.981459</td>\n",
       "      <td>37.633833</td>\n",
       "      <td>40.000000</td>\n",
       "      <td>36.895388</td>\n",
       "      <td>34.981459</td>\n",
       "      <td>37.633833</td>\n",
       "      <td>40.000000</td>\n",
       "      <td>0.924543</td>\n",
       "    </tr>\n",
       "  </tbody>\n",
       "</table>\n",
       "<p>5 rows × 111 columns</p>\n",
       "</div>"
      ],
      "text/plain": [
       "          game_id  team1_id  team2_id  season  team1_seed  team2_seed  \\\n",
       "0  2020-1124-1257      1124      1257    2020           1           2   \n",
       "1  2020-1124-1371      1124      1371    2020           1           3   \n",
       "2  2020-1124-1120      1124      1120    2020           1           4   \n",
       "3  2020-1124-1228      1124      1228    2020           1           5   \n",
       "4  2020-1124-1234      1124      1234    2020           1           6   \n",
       "\n",
       "  team1_position team2_position  strongseed  weakseed  ... team2_ap_final  \\\n",
       "0            W01            W02           1         2  ...           15.0   \n",
       "1            W01            W03           1         3  ...           16.0   \n",
       "2            W01            W04           1         4  ...           20.0   \n",
       "3            W01            W05           1         5  ...           21.0   \n",
       "4            W01            W06           1         6  ...            NaN   \n",
       "\n",
       "  team1_f3grate.1 team1_oppf3grate.1 team2_f3grate.1  team2_oppf3grate.1  \\\n",
       "0       36.895388          34.981459       37.996642           41.027088   \n",
       "1       36.895388          34.981459       40.535918           34.490482   \n",
       "2       36.895388          34.981459       44.111349           36.250000   \n",
       "3       36.895388          34.981459       30.599548           32.481545   \n",
       "4       36.895388          34.981459       37.633833           40.000000   \n",
       "\n",
       "   team1_f3grate.2 team1_oppf3grate.2 team2_f3grate.2 team2_oppf3grate.2  \\\n",
       "0        36.895388          34.981459       37.996642          41.027088   \n",
       "1        36.895388          34.981459       40.535918          34.490482   \n",
       "2        36.895388          34.981459       44.111349          36.250000   \n",
       "3        36.895388          34.981459       30.599548          32.481545   \n",
       "4        36.895388          34.981459       37.633833          40.000000   \n",
       "\n",
       "     result  \n",
       "0  0.474494  \n",
       "1  0.729602  \n",
       "2  0.654718  \n",
       "3  0.940996  \n",
       "4  0.924543  \n",
       "\n",
       "[5 rows x 111 columns]"
      ]
     },
     "execution_count": 73,
     "metadata": {},
     "output_type": "execute_result"
    }
   ],
   "source": [
    "final.head()"
   ]
  },
  {
   "cell_type": "code",
   "execution_count": 74,
   "metadata": {
    "ExecuteTime": {
     "end_time": "2020-03-27T18:31:36.022015Z",
     "start_time": "2020-03-27T18:31:35.772682Z"
    }
   },
   "outputs": [],
   "source": [
    "final.to_csv('Jumpman_2020.csv', index=False)"
   ]
  },
  {
   "cell_type": "code",
   "execution_count": null,
   "metadata": {},
   "outputs": [],
   "source": []
  },
  {
   "cell_type": "markdown",
   "metadata": {},
   "source": [
    "# Result Submission (Final)"
   ]
  },
  {
   "cell_type": "code",
   "execution_count": 109,
   "metadata": {
    "ExecuteTime": {
     "end_time": "2020-03-27T23:31:22.386021Z",
     "start_time": "2020-03-27T23:31:22.376072Z"
    }
   },
   "outputs": [],
   "source": [
    "cond = (final['team1_seed'] == 1)\n",
    "cond1 = (final['team1_region'] == 'W') & (final['team2_region'] == 'W') & cond\n",
    "cond2 = (final['team1_region'] == 'X') & (final['team2_region'] == 'X') & cond\n",
    "cond3 = (final['team1_region'] == 'Y') & (final['team2_region'] == 'Y') & cond\n",
    "cond4 = (final['team1_region'] == 'Z') & (final['team2_region'] == 'Z') & cond\n"
   ]
  },
  {
   "cell_type": "code",
   "execution_count": 114,
   "metadata": {
    "ExecuteTime": {
     "end_time": "2020-03-27T23:36:06.272651Z",
     "start_time": "2020-03-27T23:36:06.262695Z"
    }
   },
   "outputs": [
    {
     "name": "stdout",
     "output_type": "stream",
     "text": [
      "0.8775206542626254\n",
      "0.8581631757159158\n",
      "0.921348044992969\n",
      "0.8679345023693403\n"
     ]
    }
   ],
   "source": [
    "print(final[cond1]['result'].mean())\n",
    "print(final[cond2]['result'].mean())\n",
    "print(final[cond3]['result'].mean())\n",
    "print(final[cond4]['result'].mean())"
   ]
  },
  {
   "cell_type": "code",
   "execution_count": 113,
   "metadata": {
    "ExecuteTime": {
     "end_time": "2020-03-27T23:34:56.791574Z",
     "start_time": "2020-03-27T23:34:56.783597Z"
    }
   },
   "outputs": [
    {
     "data": {
      "text/plain": [
       "0     0.474494\n",
       "1     0.729602\n",
       "2     0.654718\n",
       "3     0.940996\n",
       "4     0.924543\n",
       "5     0.944662\n",
       "6     0.946821\n",
       "7     0.959085\n",
       "8     0.906035\n",
       "9     0.950189\n",
       "10    0.948833\n",
       "11    0.924201\n",
       "12    0.931091\n",
       "13    0.952782\n",
       "14    0.917796\n",
       "15    0.934483\n",
       "Name: result, dtype: float64"
      ]
     },
     "execution_count": 113,
     "metadata": {},
     "output_type": "execute_result"
    }
   ],
   "source": [
    "#final[cond1]['result']"
   ]
  },
  {
   "cell_type": "code",
   "execution_count": 111,
   "metadata": {
    "ExecuteTime": {
     "end_time": "2020-03-27T23:34:24.706938Z",
     "start_time": "2020-03-27T23:34:24.702977Z"
    }
   },
   "outputs": [],
   "source": [
    "#final[(final['team1_teamname'] == 'Kansas') | (final['team2_teamname'] == 'Kansas')]         "
   ]
  },
  {
   "cell_type": "code",
   "execution_count": 117,
   "metadata": {
    "ExecuteTime": {
     "end_time": "2020-03-28T00:30:16.983689Z",
     "start_time": "2020-03-28T00:30:16.959732Z"
    }
   },
   "outputs": [],
   "source": [
    "jumpman = final[['game_id', 'result']]\n",
    "jumpman.to_csv('jumpman.csv', index=False)"
   ]
  },
  {
   "cell_type": "code",
   "execution_count": null,
   "metadata": {},
   "outputs": [],
   "source": []
  },
  {
   "cell_type": "code",
   "execution_count": null,
   "metadata": {},
   "outputs": [],
   "source": []
  },
  {
   "cell_type": "code",
   "execution_count": null,
   "metadata": {},
   "outputs": [],
   "source": []
  },
  {
   "cell_type": "code",
   "execution_count": null,
   "metadata": {},
   "outputs": [],
   "source": []
  },
  {
   "cell_type": "code",
   "execution_count": null,
   "metadata": {},
   "outputs": [],
   "source": []
  }
 ],
 "metadata": {
  "kernelspec": {
   "display_name": "Python 3",
   "language": "python",
   "name": "python3"
  },
  "language_info": {
   "codemirror_mode": {
    "name": "ipython",
    "version": 3
   },
   "file_extension": ".py",
   "mimetype": "text/x-python",
   "name": "python",
   "nbconvert_exporter": "python",
   "pygments_lexer": "ipython3",
   "version": "3.6.10"
  },
  "toc": {
   "base_numbering": 1,
   "nav_menu": {},
   "number_sections": true,
   "sideBar": true,
   "skip_h1_title": false,
   "title_cell": "Table of Contents",
   "title_sidebar": "Contents",
   "toc_cell": false,
   "toc_position": {},
   "toc_section_display": true,
   "toc_window_display": false
  }
 },
 "nbformat": 4,
 "nbformat_minor": 2
}
